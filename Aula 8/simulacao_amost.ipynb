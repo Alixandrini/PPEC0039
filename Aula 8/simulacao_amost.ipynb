{
 "cells": [
  {
   "cell_type": "markdown",
   "metadata": {},
   "source": [
    "# Simulação de uma distribuição amostral"
   ]
  },
  {
   "cell_type": "markdown",
   "metadata": {},
   "source": [
    "Para ilustrarmos uma distribuição amostral de P, usaremos o seguinte exemplo dentro de uma população cerca de 70% dos cidadãos são favoráveis a uma obra de transporte $\\pi$ =0.7 . Podemos simular varias amostras aleatórias de tamanhao n=400 usando artificialmente o parametro da proporção da população $\\pi$ de forma a sortear numeros aleatóreos e adotar o intervalo de 0-6 como favorável e de 7-9 como não favorável."
   ]
  },
  {
   "cell_type": "markdown",
   "metadata": {},
   "source": [
    "Para isso usaremos as bibliotécas random, matplotlib, numpy. <br/>\n",
    "criaremos dois vetores: o de amostras \"sample\" e o que classifica o valor sorteado em favorável ou não que chamaremos simulação. O primeiro terá 400 elementos o segundo 100 elementos que corresponderão a proporcção de favoráveis dentro do sorteio da amostra.\n"
   ]
  },
  {
   "cell_type": "code",
   "execution_count": 15,
   "metadata": {
    "ExecuteTime": {
     "end_time": "2020-11-27T18:39:56.277966Z",
     "start_time": "2020-11-27T18:39:56.177669Z"
    }
   },
   "outputs": [],
   "source": [
    "from random import randrange\n",
    "from matplotlib import pyplot\n",
    "import numpy\n",
    "sample=[]\n",
    "simulacao=[]\n",
    "for j in range (100):\n",
    "    for i in range (1000):\n",
    "        a=randrange(0,9)\n",
    "        if a<7 :\n",
    "            sample.append(1)\n",
    "        else:\n",
    "            sample.append(0)\n",
    "    simulacao.append(sum(sample)/1000)\n",
    "    sample=[]\n"
   ]
  },
  {
   "cell_type": "markdown",
   "metadata": {},
   "source": [
    "Em seguida representaremos o histograma da nossa simulação."
   ]
  },
  {
   "cell_type": "code",
   "execution_count": 16,
   "metadata": {
    "ExecuteTime": {
     "end_time": "2020-11-27T18:39:57.681805Z",
     "start_time": "2020-11-27T18:39:57.365558Z"
    }
   },
   "outputs": [
    {
     "data": {
      "image/png": "[encoded data removed]",
      "text/plain": [
       "<Figure size 432x288 with 1 Axes>"
      ]
     },
     "metadata": {
      "needs_background": "light"
     },
     "output_type": "display_data"
    }
   ],
   "source": [
    "import numpy as np\n",
    "bins = np.linspace(0.6, 0.9, num=100);\n",
    "pyplot.hist(simulacao,bins);"
   ]
  },
  {
   "cell_type": "markdown",
   "metadata": {},
   "source": [
    "Os valores máximos e minímos obtidos nos revelam um estimativa do erro amostral no nosso experimento, caso utilizemos um intervalo de confiança devemos calcular o erro amostral fazendo referêmncia a posição do respectivo pencentil."
   ]
  },
  {
   "cell_type": "code",
   "execution_count": 17,
   "metadata": {
    "ExecuteTime": {
     "end_time": "2020-11-27T18:40:02.012343Z",
     "start_time": "2020-11-27T18:40:01.996724Z"
    }
   },
   "outputs": [
    {
     "name": "stdout",
     "output_type": "stream",
     "text": [
      "O maior valor simulado foi 0.816\n",
      "O menor valor simulado foi 0.75\n",
      "O erro amostral simulado total é 0.07\n"
     ]
    }
   ],
   "source": [
    "print(\"O maior valor simulado foi\", max(simulacao))\n",
    "print(\"O menor valor simulado foi\", min(simulacao))\n",
    "print(\"O erro amostral simulado total é {:.2f}\".format((max(simulacao)-min(simulacao))))"
   ]
  },
  {
   "cell_type": "code",
   "execution_count": 18,
   "metadata": {
    "ExecuteTime": {
     "end_time": "2020-11-27T18:40:04.821187Z",
     "start_time": "2020-11-27T18:40:04.805538Z"
    }
   },
   "outputs": [
    {
     "name": "stdout",
     "output_type": "stream",
     "text": [
      "Nosso erro amostral com um nivel de confiança de 96% é 0.04\n"
     ]
    }
   ],
   "source": [
    "Nc=96 #nivel de confiança em percentagem\n",
    "Err96=np.percentile(simulacao,Nc)-np.percentile(simulacao,100-Nc)\n",
    "print(\"Nosso erro amostral com um nivel de confiança de 96% é {:.2f}\".format(Err96))"
   ]
  },
  {
   "cell_type": "code",
   "execution_count": null,
   "metadata": {},
   "outputs": [],
   "source": []
  }
 ],
 "metadata": {
  "kernelspec": {
   "display_name": "Python 3 (ipykernel)",
   "language": "python",
   "name": "python3"
  },
  "language_info": {
   "codemirror_mode": {
    "name": "ipython",
    "version": 3
   },
   "file_extension": ".py",
   "mimetype": "text/x-python",
   "name": "python",
   "nbconvert_exporter": "python",
   "pygments_lexer": "ipython3",
   "version": "3.9.12"
  },
  "toc": {
   "base_numbering": 1,
   "nav_menu": {},
   "number_sections": true,
   "sideBar": true,
   "skip_h1_title": false,
   "title_cell": "Table of Contents",
   "title_sidebar": "Contents",
   "toc_cell": false,
   "toc_position": {},
   "toc_section_display": true,
   "toc_window_display": false
  }
 },
 "nbformat": 4,
 "nbformat_minor": 2
}
