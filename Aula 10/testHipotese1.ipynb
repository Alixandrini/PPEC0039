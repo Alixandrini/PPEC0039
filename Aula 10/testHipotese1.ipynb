{
 "cells": [
  {
   "cell_type": "code",
   "execution_count": 2,
   "metadata": {
    "ExecuteTime": {
     "end_time": "2020-12-02T00:34:05.360845Z",
     "start_time": "2020-12-02T00:33:53.692757Z"
    }
   },
   "outputs": [],
   "source": [
    "import scipy.stats as st"
   ]
  },
  {
   "cell_type": "code",
   "execution_count": 3,
   "metadata": {
    "ExecuteTime": {
     "end_time": "2020-12-02T00:34:05.407715Z",
     "start_time": "2020-12-02T00:34:05.369818Z"
    }
   },
   "outputs": [
    {
     "data": {
      "text/plain": [
       "1.959963984540054"
      ]
     },
     "execution_count": 3,
     "metadata": {},
     "output_type": "execute_result"
    }
   ],
   "source": [
    "st.norm.ppf(.975)"
   ]
  },
  {
   "cell_type": "code",
   "execution_count": 4,
   "metadata": {
    "ExecuteTime": {
     "end_time": "2020-12-02T00:56:42.971992Z",
     "start_time": "2020-12-02T00:56:42.947063Z"
    }
   },
   "outputs": [],
   "source": [
    "def testehipot(Amost,mi0,alfa,H0):\n",
    "    '''\n",
    "    Amost-> são as amostras vetor numpy\n",
    "    mi0 é a média a ser testada como hipótese\n",
    "    alpha é o nivel de significancia\n",
    "    H0 é o tipo de operação da hipotese aceita: Maior, Menor, Diferente, Igual\n",
    "    '''\n",
    "    \n",
    "    Zcal=(Amost.mean()-mi0)/(Amost.std()/(len(Amost))**0.5)\n",
    "    if H0==\"Maior\":\n",
    "        Ztab=st.norm.ppf(1-alfa/2)\n",
    "        if Zcal>=Ztab:\n",
    "            print(\"A hipótese H0 foi aceita a um nível de significancia de {:.0f} %\".format(alpha*100))\n",
    "        else:\n",
    "            print(\"A hipótese H0 foi rejeitada a um nível de significancia de {:.0f} %\".format(alpha*100))\n",
    "    if H0==\"Menor\":\n",
    "        Ztab=st.norm.ppf(alfa/2)\n",
    "        if Zcal<=Ztab:\n",
    "            print(\"A hipótese H0 foi aceita a um nível de significancia de {:.0f} %\".format(alpha*100))\n",
    "        else:\n",
    "            print(\"A hipótese H0 foi rejeitada a um nível de significancia de {:.0f} %\".format(alpha*100))    \n",
    "    if H0==\"Igual\":\n",
    "        Ztabi=st.norm.ppf(alfa/2)\n",
    "        Ztabs=st.norm.ppf(1-alfa/2)\n",
    "        if Zcal<Ztabs and Zcal>Ztabi:\n",
    "            print(\"A hipótese H0 foi aceita a um nível de significancia de {:.0f} %\".format(alpha*100))\n",
    "        else:\n",
    "            print(\"A hipótese H0 foi rejeitada a um nível de significancia de {:.0f} %\".format(alpha*100))\n",
    "    if H0==\"Diferente\":\n",
    "        Ztabi=st.norm.ppf(alfa/2)\n",
    "        Ztabs=st.norm.ppf(1-alfa/2)\n",
    "        if Zcal>Ztabs or Zcal<Ztabi:\n",
    "            print(\"A hipótese H0 foi aceita a um nível de significancia de {:.0f} %\".format(alpha*100))\n",
    "        else:\n",
    "            print(\"A hipótese H0 foi rejeitada a um nível de significancia de {:.0f} %\".format(alpha*100))\n"
   ]
  },
  {
   "cell_type": "code",
   "execution_count": 5,
   "metadata": {
    "ExecuteTime": {
     "end_time": "2020-12-02T00:56:43.592587Z",
     "start_time": "2020-12-02T00:56:43.574637Z"
    }
   },
   "outputs": [],
   "source": [
    "import numpy as np\n",
    "Amost= np.array([76.2,78.3,76.4,74.7,72.6,78.4,75.7,70.2,73.3,74.2])"
   ]
  },
  {
   "cell_type": "code",
   "execution_count": 8,
   "metadata": {
    "ExecuteTime": {
     "end_time": "2020-12-02T00:56:44.104366Z",
     "start_time": "2020-12-02T00:56:44.097384Z"
    }
   },
   "outputs": [],
   "source": [
    "mi0=75\n",
    "alpha=0.05\n",
    "H0=\"Igual\""
   ]
  },
  {
   "cell_type": "code",
   "execution_count": 9,
   "metadata": {
    "ExecuteTime": {
     "end_time": "2020-12-02T00:56:44.862535Z",
     "start_time": "2020-12-02T00:56:44.852566Z"
    }
   },
   "outputs": [
    {
     "name": "stdout",
     "output_type": "stream",
     "text": [
      "A hipótese H0 foi aceita a um nível de significancia de 5 %\n"
     ]
    }
   ],
   "source": [
    "testehipot(Amost,mi0,alpha,H0)"
   ]
  },
  {
   "cell_type": "code",
   "execution_count": null,
   "metadata": {
    "ExecuteTime": {
     "end_time": "2020-12-02T00:56:50.021965Z",
     "start_time": "2020-12-02T00:56:50.001019Z"
    }
   },
   "outputs": [],
   "source": []
  },
  {
   "cell_type": "code",
   "execution_count": null,
   "metadata": {},
   "outputs": [],
   "source": []
  }
 ],
 "metadata": {
  "kernelspec": {
   "display_name": "Python 3 (ipykernel)",
   "language": "python",
   "name": "python3"
  },
  "language_info": {
   "codemirror_mode": {
    "name": "ipython",
    "version": 3
   },
   "file_extension": ".py",
   "mimetype": "text/x-python",
   "name": "python",
   "nbconvert_exporter": "python",
   "pygments_lexer": "ipython3",
   "version": "3.9.12"
  },
  "toc": {
   "base_numbering": 1,
   "nav_menu": {},
   "number_sections": true,
   "sideBar": true,
   "skip_h1_title": false,
   "title_cell": "Table of Contents",
   "title_sidebar": "Contents",
   "toc_cell": false,
   "toc_position": {},
   "toc_section_display": true,
   "toc_window_display": false
  }
 },
 "nbformat": 4,
 "nbformat_minor": 2
}
