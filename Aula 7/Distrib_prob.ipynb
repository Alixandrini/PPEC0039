{
  "cells": [
    {
      "cell_type": "markdown",
      "metadata": {
        "id": "iCAGqgD4IMbU"
      },
      "source": [
        "# Distribuições teóricas de frequências"
      ]
    },
    {
      "cell_type": "markdown",
      "metadata": {
        "id": "BljiKbEnIMbX"
      },
      "source": [
        "As distribuições dos dados podem ter uma variedade de formas, incluindo formas simétricas e não simétricas. Introduziremos aqui alguns dos modelos matemáticos mais comumente usados para tais dados."
      ]
    },
    {
      "cell_type": "markdown",
      "metadata": {
        "id": "VYsk0KZUIMbX"
      },
      "source": [
        "## A distribuição Normal"
      ]
    },
    {
      "cell_type": "markdown",
      "metadata": {
        "ExecuteTime": {
          "end_time": "2020-10-28T18:02:04.661510Z",
          "start_time": "2020-10-28T18:02:04.639371Z"
        },
        "id": "Fxi0l5ejIMbY"
      },
      "source": [
        " A distribuição Normal é a mais familiar das distribuições de probabilidade e também uma das mais importantes em estatística. Esta distribuição tem uma forma de sino.\n",
        "\n",
        "![Distribuicao Normal](http://leg.ufpr.br/~paulojus/CE003/ce003/img51.png\")\n",
        "A equação da curva Normal é especificada usando 2 parâmetros: a média populacional $\\mu$, e o desvio padrão populacional $\\sigma$, ou equivalentemente a variância populacional $\\sigma^2$. Denotamos N($\\mu, \\sigma^2$) à curva Normal com média $\\mu$ e variância $\\sigma^2$. A média refere-se ao centro da distribuição e o desvio padrão ao espalhamento de curva. A distribuição normal é simétrica em torno da média o que implica que e média, a mediana e a moda são todas coincidentes. Para referência, a equação da curva é\n",
        "\n",
        "$\\begin{align}\n",
        "f(x) = \\frac{1}{\\sqrt{(2\\pi\\sigma^2)}}\\exp\\left\\{-\\frac{(x-\\mu)^2} {2\\sigma^2}\\right\\}.\n",
        "\\end{align}$\n",
        "\n",
        "Felizmente, você não tem que memorizar esta equação. O importante é que você entenda como a curva é afetada pelos valores numéricos de $\\mu$ e $\\sigma$. isto é mostrado no diagrama abaixo.\n",
        "\n",
        "![Funções Densidade de Probabilidade](http://www.portalaction.com.br/sites/default/files/EstatisticaBasica/figuras/distribuicaoNormal/normal3.PNG)\n",
        "\n",
        "A área sob a curva normal (na verdade abaixo de qualquer função de densidade de probabilidade) é 1. Então, para quaisquer dois valores específicos podemos determinar a proporção de área sob a curva entre esses dois valores. Para a distribuição Normal, a proporção de valores caindo dentro de um, dois, ou três desvios padrão da média são: <br>\n",
        "\n",
        "|Tamanho|Proporção|\n",
        "| :-: | :-: |\n",
        "| $\\mu \\pm 1\\sigma$ |68.3%|\n",
        "| $\\mu \\pm 2\\sigma$ |95.5%|\n",
        "| $\\mu \\pm 3\\sigma$ |99.7%|\n",
        "\n",
        "Este resultado é usado da seguinte maneira. Suponha que os comprimentos de um particular tipo de peixe podem ser descritos por uma distribuição normal, com média 140mm e desvio padrão 15mm. Podemos calcular a proporção dos peixes que têm comprimentos entre 110 e 170mm, por exemplo, como a proporção da área sob a curva entre 110 e 170mm.\n",
        "\n",
        "Então em nosso exemplo, cerca de 95% dos peixes tem comprimentos entre 110mm e 170mm.\n",
        "\n",
        "Na prática desejamos calcular probabilidades para diferentes valores de $\\mu$ e $\\sigma$. Para isso, a variável $X$ cuja distribuição é $N(\\mu,\\sigma^2)$ é transformada numa forma padronizada $Z$ com distribuição $N(0,1)$ (distribuição normal padrão) pois tal distribuição é tabelada. A quantidade $Z$ é dada por:\n",
        "$\\begin{align}\n",
        "Z=\\frac{X-\\mu}{\\sigma}\n",
        "\\end{align}$\n",
        "\n",
        "Exemplo: A concentração de um poluente em água liberada por uma fábrica tem distribuição N(8,1.5). Qual a chance, de que num dado dia, a concentração do poluente exceda o limite regulatório de 10 ppm?\n",
        "\n",
        "A solução do problema resume-se em determinar a proporção da distribuição que está acima de 10 ppm, ie $P(X>10)$. Usando a estatística z temos:\n",
        "$\\begin{align}\n",
        "P(X>10)=P(Z>\\frac{10-8}{1.5})=P(Z>1.33)=1-P(Z \\leq 1.33)=0.09\n",
        "\\end{align}$\n",
        "\n",
        "Portanto, espera-se que a água liberada pela fábrica exceda os limites regulatórios cerca de 9% do tempo.\n",
        "\n",
        "<b>EXEMPLO</b> <br>\n",
        "Suponha que a espessura média de arruelas produzidas em uma fábrica tenha distribuição normal com média $ 11,15 $mm e desvio padrão $ 2,238 $mm. Qual a porcentagem de arruelas que tem espessura entre $ 8,70 $mm e $ 14,70 $mm?\n",
        "\n",
        "Para encontrar a porcentagem de arruelas com a espessura desejada devemos encontrar a área abaixo da curva normal, compreendida entre os pontos $ 8,70 $ e $ 14,70 $mm.\n",
        "\n",
        "Para isso, temos que encontrar dois pontos da distribuição normal padronizada.\n",
        "\n",
        "O primeiro ponto é\n",
        "\n",
        "$\\begin{align}\n",
        "Z_1 = \\frac{8,70 - 11,15 }{2,238} = -1,09.\n",
        "\\end{align}$\n",
        "\n",
        "\n",
        "\n",
        "A área para valores maiores do que $ -1,09 $ é $ 0,8621 $, ou seja, $ 86,21\\% $. Portanto, a área para valores menores do que $ -1,09 $ é de $ 0,1379 $.\n",
        "\n",
        "O segundo ponto é:\n",
        "\n",
        "$\\begin{align}\n",
        "Z_2 = \\frac{14,70 - 11,15 }{2,238} = 1,58.\\\n",
        "\\end{align}$\n",
        "\n",
        "\n",
        "\n",
        "A área para valores maiores do que $ 1,58 $ é $ 0,0571 $, ou seja, $ 5,71\\% $. Logo, o que procuramos é a área entre $ Z_1 $ e $ Z_2 $, que é dada por\n",
        "\n",
        "$\\begin{align}\n",
        "1 - (0,1379 + 0,0571) = 1 - 0,195 = 0,8050.\\\n",
        "\\end{align}$\n",
        "\n",
        "\n"
      ]
    },
    {
      "cell_type": "markdown",
      "metadata": {
        "id": "9KZeWtzHIMbZ"
      },
      "source": [
        "## A distribuição Binomial"
      ]
    },
    {
      "cell_type": "markdown",
      "metadata": {
        "ExecuteTime": {
          "end_time": "2020-10-28T18:21:36.168836Z",
          "start_time": "2020-10-28T18:21:36.153187Z"
        },
        "id": "sDRF-s6QIMba"
      },
      "source": [
        " Suponha que $n$ experimentos independentes, ou ensaios, são executados, onde $n$ é um número fixo, e que cada experimento resulta num \"sucesso\" com proabilidade $p$ e numa \"falha\" com probabilidade $1-p$. O número total de sucessos, $X$, é uma variável aleatória com parâmetros $n$ e $p$.\n",
        "\n",
        "Por exemplo, uma moeda é lançada 10 vezes e o número total de caras é contado (aqui \"cara\" é um sucesso).\n",
        "\n",
        "A probabilidade que $X=k$, denotada por $P(k)$, pode ser encontrada como:\n",
        "$\\begin{align}\n",
        "P(X=k) ~ = ~ P(k) ~ = ~ \\frac{n!}{k!(n-k)!} p^k (1-p)^{n-k}.\n",
        "\\end{align}$\n",
        "\n",
        "A média de um variável aleatória Binomial é $np$ e a variância é $np(1-p)$.\n",
        "\n",
        "Considere o seguinte exemplo. Suponha que num pedigree humano envolvendo albinismo (o qual é recessivo), nós encontremos um casamento no qual sabe-se que ambos os parceiros são heterozigotos para o gene albino. De acordo com a teoria Mendeliana, a probabilidade de que um filho desse casal seja albino é um quarto. (Então a probabilidade de não ser albino é $\\frac{3}{4}$.)\n",
        "\n",
        "Agora considere o mesmo casal com 2 crianças. A chance de que ambas sejam albinas é $(\\frac{1}{4})^2 = \\frac{1}{16} = 0.0625$. A desma forma, a chance de ambas serem normais é $(\\frac{3}{4})^2 = \\frac{9}{16} = 0.5625 $. Portanto, a probabilidade de que somente uma seja um albina deve ser $1-\\frac{1}{16} - \\frac{9}{16} = \\frac{6}{16} = \\frac{3}{8} = 0.375$. Alternativamente, poderiamos ter usado a formula acima com $n=2$, $p=\\frac{1}{4}$, and $k=1$.\n",
        "\n",
        "Se agora considerarmos a família com $n=5$ crianças, as probabilidades de existam $k=0,1,2,\\ldots,5$ crianças albinas, onde a probabilidade de albinismo é $p=\\frac{1}{4}$, são dadas por\n",
        "$\\begin{align}\n",
        "P(k) ~ = ~ \\frac{5!}{k!(5-k)!} \\left(\\frac{1}{4}\\right)^k \\left(\\frac{3}{4}\\right)^{5-k}\n",
        "\\end{align}$\n",
        "\n",
        "as quais ficam como segue.\n",
        "\n",
        "\n",
        "![Distribuição Binomial](http://leg.ufpr.br/~paulojus/CE003/ce003/img83.png)"
      ]
    },
    {
      "cell_type": "markdown",
      "metadata": {
        "id": "fjfbojI5IMbb"
      },
      "source": [
        "## A distribuição Poisson"
      ]
    },
    {
      "cell_type": "markdown",
      "metadata": {
        "ExecuteTime": {
          "end_time": "2020-10-28T18:36:55.737766Z",
          "start_time": "2020-10-28T18:36:55.684385Z"
        },
        "id": "_mGvMN03IMbb"
      },
      "source": [
        " Uma outra distribuição comum é a distribuição Poisson, e é frequentemente usada para modelar dados de contagem, por exemplo, para descrever o número de nematóides encontrados em amostras de solo, o número diário de novos casos de câncer de mama, ou o número de células contadas usando um hemocitrômetro. O histograma abaixo mostra o número de organismos encontrados em cada um de 400 centímetros quadrados.\n",
        "\n",
        "![Distribuição Poisson 1](http://leg.ufpr.br/~paulojus/CE003/ce003/img84.png)\n",
        "\n",
        "A distribuição Poisson tem um parâmetro, $\\lambda$, e a probabilidade de obter exatamente $x$ indivíduos é dada por\n",
        "$\\begin{align}\n",
        "P(x) = \\frac{\\lambda^x e^{-\\lambda}}{x!}.\n",
        "\\end{align}$\n",
        "\n",
        "Quando $\\lambda=4.68$, por exemplo, a distribuição fica como segue.\n",
        "\n",
        "![Distribuição Poisson 2](http://leg.ufpr.br/~paulojus/CE003/ce003/img88.png)\n",
        "\n",
        "A variância de uma Poisson é igual a sua média, $\\lambda$."
      ]
    },
    {
      "cell_type": "code",
      "execution_count": null,
      "metadata": {
        "ExecuteTime": {
          "end_time": "2020-10-28T21:12:57.518360Z",
          "start_time": "2020-10-28T21:12:57.286599Z"
        },
        "id": "ZR6pdwiAIMbc",
        "outputId": "321daf02-c856-48ba-b463-5b459dfefe06"
      },
      "outputs": [
        {
          "data": {
            "image/png": "[encoded data removed]",
            "text/plain": [
              "<Figure size 432x288 with 1 Axes>"
            ]
          },
          "metadata": {
            "needs_background": "light"
          },
          "output_type": "display_data"
        },
        {
          "name": "stdout",
          "output_type": "stream",
          "text": [
            "Probabilidade de conseguirmos 15 ou menos caras 0.5512890865042847\n"
          ]
        }
      ],
      "source": [
        "# Usando scipy\n",
        "import matplotlib.pyplot as plt\n",
        "from scipy.stats import binom\n",
        "tentativas = 60\n",
        "rv = binom(tentativas, 1/2)\n",
        "\n",
        "# calcula probabilide de obter 0,1,2,...30 ou menos caras em 30 lançamentos\n",
        "resultado = rv.cdf(range(0,61,1))\n",
        "\n",
        "plt.bar(range(0,61,1),resultado)\n",
        "\n",
        "plt.xlabel('# Caras')\n",
        "plt.ylabel('Probabilidade')\n",
        "plt.title('Histogram Moeda')\n",
        "plt.grid(True)\n",
        "plt.show()\n",
        "\n",
        "print('Probabilidade de conseguirmos 15 ou menos caras {}'.format(rv.cdf(30)))"
      ]
    },
    {
      "cell_type": "markdown",
      "metadata": {
        "id": "4LsEaZMWIMbd"
      },
      "source": [
        "## Exemplos"
      ]
    },
    {
      "cell_type": "code",
      "execution_count": null,
      "metadata": {
        "ExecuteTime": {
          "end_time": "2020-10-28T19:01:42.400068Z",
          "start_time": "2020-10-28T19:01:12.659936Z"
        },
        "id": "lZoyH5eWIMbd"
      },
      "outputs": [],
      "source": [
        "'''\n",
        "As bibliotecas usadas são:\n",
        "random\n",
        "numpy.random\n",
        "scipy.stats\n",
        "pandas\n",
        "matplotlib\n",
        "'''\n",
        "\n",
        "import numpy as np\n",
        "import matplotlib.pyplot as plt\n",
        "import math\n",
        "import random\n",
        "import pandas as pd\n",
        "import scipy.stats as stat\n",
        "\n",
        "import os\n",
        "\n",
        "path = os.environ['PATH']\n",
        "\n",
        "if path.startswith('C'):\n",
        "    IN_KAGGLE = False\n",
        "else:\n",
        "    IN_KAGGLE = True"
      ]
    },
    {
      "cell_type": "markdown",
      "metadata": {
        "id": "MiiOz8oBIMbe"
      },
      "source": [
        "\n",
        "<b> Mantendo a reprodutibilidade dos resultados </b>\n",
        "\n",
        "Antes da geração de números aleatórios é importante inicializar o gerador de números para que os resultados sejam os mesmos\n"
      ]
    },
    {
      "cell_type": "code",
      "execution_count": null,
      "metadata": {
        "ExecuteTime": {
          "end_time": "2020-10-28T19:04:37.095586Z",
          "start_time": "2020-10-28T19:04:37.079938Z"
        },
        "id": "LsSb8P_dIMbe"
      },
      "outputs": [],
      "source": [
        "\n",
        "# Para uso com funções da biblioteca standard (ex random.randint)\n",
        "random.seed(1)\n",
        "# Para uso com funções da biblioteca numpy (ex np.random.randint)\n",
        "np.random.seed(1)\n",
        "\n",
        "# Quando for passada como parâmetro a seed\n",
        "random_state = 1\n"
      ]
    },
    {
      "cell_type": "markdown",
      "metadata": {
        "ExecuteTime": {
          "end_time": "2020-10-28T19:05:08.800741Z",
          "start_time": "2020-10-28T19:05:08.785089Z"
        },
        "id": "8JtcO7iqIMbe"
      },
      "source": [
        "\n",
        "<b> Funções gerais usadas nos exemplos </b>\n"
      ]
    },
    {
      "cell_type": "code",
      "execution_count": null,
      "metadata": {
        "ExecuteTime": {
          "end_time": "2020-10-28T19:05:27.400027Z",
          "start_time": "2020-10-28T19:05:27.368862Z"
        },
        "id": "wMDchxk7IMbf"
      },
      "outputs": [],
      "source": [
        "# Permutação: possibilidades de colocação de n objetos em n posições = n!\n",
        "def permutacao (n):\n",
        "    return math.factorial(n)\n",
        "\n",
        "# Arranjo: p objetos em n posições, ordem importa = n!/(n-p)!\n",
        "def arranjo (n,p):\n",
        "    return math.factorial(n)/math.factorial(n-p)\n",
        "\n",
        "# Combinação: p objetos em n posições, ordem não importa = n!/(n-p)!p!\n",
        "def combinacao (n,p):\n",
        "    return math.factorial(n)/(math.factorial(n-p)*math.factorial(p))\n",
        "\n",
        "# Variações possíveis havendo n slots e p possibilidades para cada um\n",
        "def possibilidades(n,p):\n",
        "    return p**n"
      ]
    },
    {
      "cell_type": "markdown",
      "metadata": {
        "id": "86_YZ8GZIMbf"
      },
      "source": [
        "### Exemplo 1\n",
        "\n",
        " Uma empresa de engenharia civil está licitando 12 projetos de construção diferentes. A probabilidade de a empresa ganhar a licitação para qualquer projeto individual é de 0,3. Assumindo que as licitações são independentes, qual é a probabilidade de a empresa ganhar exatamente 5 desses projetos?"
      ]
    },
    {
      "cell_type": "code",
      "source": [
        "from scipy.stats import binom\n",
        "\n",
        "# Definindo os parâmetros da distribuição binomial\n",
        "n = 12  # Número total de tentativas (projetos licitados)\n",
        "p = 0.3  # Probabilidade de sucesso em cada tentativa (ganhar uma licitação)\n",
        "k = 5   # Número de sucessos desejados (ganhar exatamente 5 projetos)\n",
        "\n",
        "# Calculando a probabilidade de obter exatamente k sucessos em n tentativas\n",
        "probabilidade = binom.pmf(k, n, p)\n",
        "\n",
        "# Imprimindo o resultado\n",
        "print(f\"A probabilidade de a empresa ganhar exatamente 5 dos 12 projetos é: {probabilidade:.4f}\")"
      ],
      "metadata": {
        "colab": {
          "base_uri": "https://localhost:8080/"
        },
        "id": "sVfmf_FyIXiZ",
        "outputId": "9df25bf1-24d0-4569-d2f6-af1605734e39"
      },
      "execution_count": 1,
      "outputs": [
        {
          "output_type": "stream",
          "name": "stdout",
          "text": [
            "A probabilidade de a empresa ganhar exatamente 5 dos 12 projetos é: 0.1585\n"
          ]
        }
      ]
    },
    {
      "cell_type": "markdown",
      "source": [
        "### Exemplo 2\n",
        "\n",
        "Em um processo de controle de qualidade na produção de vigas de concreto, a probabilidade de uma viga apresentar um defeito é de 0,05. Se 20 vigas são selecionadas aleatoriamente, qual é a probabilidade de que:\n",
        "\n",
        "Nenhuma viga tenha defeito?\n",
        "Pelo menos duas vigas tenham defeito?"
      ],
      "metadata": {
        "id": "4Vra-27FIrKT"
      }
    },
    {
      "cell_type": "code",
      "source": [
        "from scipy.stats import binom\n",
        "\n",
        "# Definindo os parâmetros da distribuição binomial\n",
        "n = 20  # Número total de tentativas (vigas selecionadas)\n",
        "p = 0.05 # Probabilidade de sucesso em cada tentativa (viga com defeito)\n",
        "\n",
        "# a) Probabilidade de nenhuma viga ter defeito (k = 0)\n",
        "prob_nenhum_defeito = binom.pmf(0, n, p)\n",
        "print(f\"A probabilidade de nenhuma viga ter defeito é: {prob_nenhum_defeito:.4f}\")\n",
        "\n",
        "# b) Probabilidade de pelo menos duas vigas terem defeito (k >= 2)\n",
        "# Podemos calcular isso como 1 - (probabilidade de 0 defeitos + probabilidade de 1 defeito)\n",
        "prob_0_defeito = binom.pmf(0, n, p)\n",
        "prob_1_defeito = binom.pmf(1, n, p)\n",
        "prob_pelo_menos_dois_defeitos = 1 - (prob_0_defeito + prob_1_defeito)\n",
        "print(f\"A probabilidade de pelo menos duas vigas terem defeito é: {prob_pelo_menos_dois_defeitos:.4f}\")"
      ],
      "metadata": {
        "colab": {
          "base_uri": "https://localhost:8080/"
        },
        "id": "nE4D_nTpJBui",
        "outputId": "4d438b1e-0464-45d9-eade-491b451d17df"
      },
      "execution_count": 2,
      "outputs": [
        {
          "output_type": "stream",
          "name": "stdout",
          "text": [
            "A probabilidade de nenhuma viga ter defeito é: 0.3585\n",
            "A probabilidade de pelo menos duas vigas terem defeito é: 0.2642\n"
          ]
        }
      ]
    },
    {
      "cell_type": "markdown",
      "source": [
        "### Exemplo 3\n",
        "Uma pesquisa indica que 70% dos engenheiros civis utilizam um software específico de modelagem estrutural. Se uma amostra aleatória de 15 engenheiros civis é selecionada, qual é a probabilidade de que entre 10 e 12 deles (inclusive) utilizem esse software?"
      ],
      "metadata": {
        "id": "r7LBiKP0JMCj"
      }
    },
    {
      "cell_type": "markdown",
      "source": [
        "### Exemplo 4\n",
        "Distribuição Normal:\n",
        "\n",
        "Questão: A resistência à compressão do concreto produzido por uma determinada usina segue uma distribuição normal com média de 35 MPa e desvio padrão de 2 MPa. Qual é a probabilidade de uma amostra aleatória de concreto ter uma resistência à compressão:\n",
        "\n",
        "Superior a 38 MPa?\n",
        "Inferior a 32 MPa?\n",
        "Entre 33 MPa e 37 MPa?\n",
        "\n",
        "Questão: O tempo necessário para concluir uma determinada tarefa de construção civil é normalmente distribuído com uma média de 8 horas e um desvio padrão de 1,5 horas. Se 10 tarefas são realizadas independentemente, qual é a probabilidade de o tempo médio de conclusão dessas 10 tarefas ser inferior a 7,5 horas?\n",
        "\n",
        "Questão: As alturas de uma amostra grande de pilares de sustentação seguem uma distribuição normal com média de 4,5 metros. Se 5% dos pilares têm altura superior a 4,8 metros, qual é o desvio padrão da distribuição das alturas?"
      ],
      "metadata": {
        "id": "VmztaHywJUlQ"
      }
    },
    {
      "cell_type": "code",
      "source": [
        "from scipy.stats import norm\n",
        "\n",
        "# Definindo os parâmetros da distribuição normal\n",
        "media = 35  # Média da resistência à compressão (em MPa)\n",
        "desvio_padrao = 2  # Desvio padrão da resistência à compressão (em MPa)\n",
        "\n",
        "# a) Probabilidade de resistência superior a 38 MPa (P(X > 38))\n",
        "# Usamos a função de sobrevivência (sf) que é 1 - cdf(x)\n",
        "prob_superior_38 = norm.sf(38, media, desvio_padrao)\n",
        "print(f\"A probabilidade de resistência superior a 38 MPa é: {prob_superior_38:.4f}\")\n",
        "\n",
        "# b) Probabilidade de resistência inferior a 32 MPa (P(X < 32))\n",
        "# Usamos a função de distribuição cumulativa (cdf)\n",
        "prob_inferior_32 = norm.cdf(32, media, desvio_padrao)\n",
        "print(f\"A probabilidade de resistência inferior a 32 MPa é: {prob_inferior_32:.4f}\")\n",
        "\n",
        "# c) Probabilidade de resistência entre 33 MPa e 37 MPa (P(33 < X < 37))\n",
        "# Calculamos a cdf em 37 e subtraímos a cdf em 33\n",
        "prob_entre_33_e_37 = norm.cdf(37, media, desvio_padrao) - norm.cdf(33, media, desvio_padrao)\n",
        "print(f\"A probabilidade de resistência entre 33 MPa e 37 MPa é: {prob_entre_33_e_37:.4f}\")"
      ],
      "metadata": {
        "colab": {
          "base_uri": "https://localhost:8080/"
        },
        "id": "OjIq_yqrJuow",
        "outputId": "27428a96-3507-4c65-bad7-e9352e2dca51"
      },
      "execution_count": 3,
      "outputs": [
        {
          "output_type": "stream",
          "name": "stdout",
          "text": [
            "A probabilidade de resistência superior a 38 MPa é: 0.0668\n",
            "A probabilidade de resistência inferior a 32 MPa é: 0.0668\n",
            "A probabilidade de resistência entre 33 MPa e 37 MPa é: 0.6827\n"
          ]
        }
      ]
    },
    {
      "cell_type": "markdown",
      "source": [
        "### Exemplo 5\n",
        "\n",
        "Uma empresa realiza testes de solo em 20 locais diferentes para um grande projeto de infraestrutura. A probabilidade de encontrar solo contaminado em qualquer local é de 0,15. Se em um local for encontrado solo contaminado, são necessárias 5 amostras adicionais para análise detalhada. Assumindo que os resultados dos locais são independentes, qual é a probabilidade de serem necessárias mais de 10 amostras adicionais para análise detalhada devido à contaminação do solo? (Aqui você pode precisar combinar a ideia da binomial para o número de locais contaminados com a consequência normal de amostras adicionais, embora a parte das amostras adicionais seja mais direta)."
      ],
      "metadata": {
        "id": "NhFBU4JIKAQg"
      }
    },
    {
      "cell_type": "code",
      "source": [
        "from scipy.stats import binom\n",
        "\n",
        "# Parâmetros\n",
        "n_locais = 20\n",
        "p_contaminacao = 0.15\n",
        "amostras_por_local_contaminado = 5\n",
        "amostras_adicionais_limite = 10\n",
        "\n",
        "# Calculando a probabilidade de precisar de mais de 10 amostras adicionais\n",
        "# Para precisar de mais de 10 amostras, precisamos de mais de 10 / 5 = 2 locais contaminados.\n",
        "# Ou seja, precisamos calcular P(X > 2), onde X é o número de locais contaminados.\n",
        "\n",
        "# Podemos calcular isso como 1 - P(X <= 2) = 1 - [P(X=0) + P(X=1) + P(X=2)]\n",
        "\n",
        "prob_menos_ou_igual_a_2 = binom.cdf(2, n_locais, p_contaminacao)\n",
        "prob_mais_de_10_amostras = 1 - prob_menos_ou_igual_a_2\n",
        "\n",
        "print(f\"A probabilidade de precisar de mais de 10 amostras adicionais é: {prob_mais_de_10_amostras:.4f}\")"
      ],
      "metadata": {
        "colab": {
          "base_uri": "https://localhost:8080/"
        },
        "id": "7LLP2gNXKSxY",
        "outputId": "98300b47-d2c5-476e-8f9f-47eb24255363"
      },
      "execution_count": 4,
      "outputs": [
        {
          "output_type": "stream",
          "name": "stdout",
          "text": [
            "A probabilidade de precisar de mais de 10 amostras adicionais é: 0.5951\n"
          ]
        }
      ]
    },
    {
      "cell_type": "markdown",
      "metadata": {
        "ExecuteTime": {
          "end_time": "2020-10-28T19:17:35.082677Z",
          "start_time": "2020-10-28T19:17:35.044974Z"
        },
        "id": "vaDXwEIpIMbg"
      },
      "source": [
        "### Exemplo 6\n",
        "\n",
        "Se quiséssemos simular o lançamento de dois dados para verificar as probabilidades da soma dos valores"
      ]
    },
    {
      "cell_type": "code",
      "execution_count": null,
      "metadata": {
        "ExecuteTime": {
          "end_time": "2020-10-28T19:18:00.862749Z",
          "start_time": "2020-10-28T19:18:00.646611Z"
        },
        "id": "IyIpk3oAIMbg",
        "outputId": "0c7f259c-bb49-48aa-cda2-daaa8aedc59b"
      },
      "outputs": [
        {
          "data": {
            "image/png": "[encoded data removed]",
            "text/plain": [
              "<Figure size 432x288 with 1 Axes>"
            ]
          },
          "metadata": {
            "needs_background": "light"
          },
          "output_type": "display_data"
        }
      ],
      "source": [
        "Dado = [1,2,3,4,5,6]\n",
        "Equilibrio = [1/6,1/6,1/6,1/6,1/6,1/6]\n",
        "lancamentos = 2\n",
        "repeticoes = 100000\n",
        "np.random.seed(1)\n",
        "#Simula 100000 lançamentos de dois dados e soma, em cada um dos 100000 lançamentos, os resultados obtidos pelos 2 dados\n",
        "resultado = np.random.choice(a=Dado, p=Equilibrio, replace=True, size=(repeticoes,lancamentos))\n",
        "resultado=np.sum(resultado, axis=1)\n",
        "probabilidades,_ = np.histogram(a=resultado, density=True, bins=range(1,14,1))\n",
        "\n",
        "#n, bins, patches = plt.hist(resultado, density=True, facecolor='g', alpha=0.75, bins=range(0,31,1))\n",
        "plt.bar(range(1,13,1),probabilidades, facecolor='g', alpha=0.75)\n",
        "\n",
        "plt.xlabel('Soma dois dados')\n",
        "plt.ylabel('Probabilidade')\n",
        "plt.title('Histogram Dado')\n",
        "plt.grid(True)\n",
        "plt.show()"
      ]
    },
    {
      "cell_type": "markdown",
      "metadata": {
        "id": "h0Me4AE8IMbh"
      },
      "source": [
        "Tomando como exemplo a variável aleatória que representa o número de caras obtidas em 30 lançamentos de uma moeda honesta (variável discreta), sua PMF é demonstrada a seguir:"
      ]
    },
    {
      "cell_type": "markdown",
      "source": [
        "### Exemplo 6\n",
        "\n",
        "Exemplo de Exercício com Distribuição de Poisson:\n",
        "\n",
        "O número de falhas estruturais significativas em pontes de concreto em uma determinada região metropolitana segue uma distribuição de Poisson com uma taxa média de 0,8 falhas por ano.\n",
        "\n",
        "a) Qual é a probabilidade de ocorrerem exatamente 2 falhas estruturais no próximo ano?\n",
        "\n",
        "b) Qual é a probabilidade de não ocorrer nenhuma falha estrutural nos próximos dois anos?\n",
        "\n",
        "c) Qual é a probabilidade de ocorrer pelo menos uma falha estrutural nos próximos seis meses?"
      ],
      "metadata": {
        "id": "uesaNbj5LtDl"
      }
    },
    {
      "cell_type": "code",
      "source": [
        "from scipy.stats import poisson\n",
        "import numpy as np\n",
        "\n",
        "# Parâmetro da distribuição de Poisson: taxa média (lambda)\n",
        "\n",
        "# a) Probabilidade de exatamente 2 falhas em 1 ano\n",
        "taxa_ano = 0.8\n",
        "k_a = 2\n",
        "prob_a = poisson.pmf(k_a, taxa_ano)\n",
        "print(f\"a) Probabilidade de exatamente 2 falhas no próximo ano: {prob_a:.4f}\")\n",
        "\n",
        "# b) Probabilidade de nenhuma falha em 2 anos\n",
        "taxa_dois_anos = taxa_ano * 2\n",
        "k_b = 0\n",
        "prob_b = poisson.pmf(k_b, taxa_dois_anos)\n",
        "print(f\"b) Probabilidade de nenhuma falha nos próximos dois anos: {prob_b:.4f}\")\n",
        "\n",
        "# c) Probabilidade de pelo menos uma falha em 6 meses (0.5 anos)\n",
        "taxa_seis_meses = taxa_ano * 0.5\n",
        "# P(X >= 1) = 1 - P(X = 0)\n",
        "prob_c = 1 - poisson.pmf(0, taxa_seis_meses)\n",
        "print(f\"c) Probabilidade de pelo menos uma falha nos próximos seis meses: {prob_c:.4f}\")"
      ],
      "metadata": {
        "id": "DFrpDl99Lym1",
        "outputId": "6b44e5b7-c276-46a0-accb-42a8eca970fd",
        "colab": {
          "base_uri": "https://localhost:8080/"
        }
      },
      "execution_count": 5,
      "outputs": [
        {
          "output_type": "stream",
          "name": "stdout",
          "text": [
            "a) Probabilidade de exatamente 2 falhas no próximo ano: 0.1438\n",
            "b) Probabilidade de nenhuma falha nos próximos dois anos: 0.2019\n",
            "c) Probabilidade de pelo menos uma falha nos próximos seis meses: 0.3297\n"
          ]
        }
      ]
    },
    {
      "cell_type": "markdown",
      "metadata": {
        "id": "2LY1lfCmIMbh"
      },
      "source": [
        "### Exemplo 7\n",
        "\n",
        "calcula probabilide de obter 0,1,2,...30 caras em 30 lançamentos"
      ]
    },
    {
      "cell_type": "code",
      "execution_count": null,
      "metadata": {
        "ExecuteTime": {
          "end_time": "2020-10-28T19:20:46.911773Z",
          "start_time": "2020-10-28T19:20:46.680015Z"
        },
        "id": "yL8MnqElIMbh",
        "outputId": "e28c8599-7b12-4117-935b-ee11cc4e596f"
      },
      "outputs": [
        {
          "data": {
            "image/png": "[encoded data removed]",
            "text/plain": [
              "<Figure size 432x288 with 1 Axes>"
            ]
          },
          "metadata": {
            "needs_background": "light"
          },
          "output_type": "display_data"
        },
        {
          "name": "stdout",
          "output_type": "stream",
          "text": [
            "Valor da PMF em 15: 0.14446444809436768, correspondente à probabilidade de 15 caras em 30 lançamentos\n",
            "Valor da PMF em 0: 9.313225746154802e-10, correspondente à probabilidade de 0 caras em 30 lançamentos\n",
            "Soma das probabilidades 0.9999999999999999\n"
          ]
        }
      ],
      "source": [
        "# Usando scipy\n",
        "\n",
        "from scipy.stats import binom\n",
        "tentativas = 30\n",
        "rv = binom(tentativas, 1/2)\n",
        "\n",
        "# calcula probabilide de obter 0,1,2,...30 caras em 30 lançamentos\n",
        "resultado = rv.pmf(range(0,31,1))\n",
        "\n",
        "plt.bar(range(0,31,1),resultado)\n",
        "\n",
        "plt.xlabel('# Cara')\n",
        "plt.ylabel('Probability')\n",
        "plt.title('Histogram Moeda')\n",
        "plt.grid(True)\n",
        "plt.show()\n",
        "\n",
        "print('Valor da PMF em 15: {}, correspondente à probabilidade de 15 caras em 30 lançamentos'.format(rv.pmf(15)))\n",
        "print('Valor da PMF em 0: {}, correspondente à probabilidade de 0 caras em 30 lançamentos'.format(rv.pmf(0)))\n",
        "print('Soma das probabilidades {}'.format(sum(resultado)))"
      ]
    },
    {
      "cell_type": "code",
      "execution_count": null,
      "metadata": {
        "ExecuteTime": {
          "end_time": "2020-10-28T19:21:58.073050Z",
          "start_time": "2020-10-28T19:21:57.879072Z"
        },
        "id": "lMAhoMOxIMbh",
        "outputId": "c293df88-9f56-4b79-98c6-41273827f613"
      },
      "outputs": [
        {
          "data": {
            "image/png": "[encoded data removed]",
            "text/plain": [
              "<Figure size 1008x432 with 1 Axes>"
            ]
          },
          "metadata": {
            "needs_background": "light"
          },
          "output_type": "display_data"
        }
      ],
      "source": [
        "from scipy.stats import binom\n",
        "tentativas = 30\n",
        "rv = binom(tentativas, 1/2)\n",
        "\n",
        "# calcula probabilide de obter 0,1,2,...30 caras em 30 lançamentos\n",
        "resultado = rv.pmf(range(0,31,1))\n",
        "plt.subplots(figsize=(14,6))\n",
        "plt.plot(range(0,31,1),resultado, color='black')\n",
        "\n",
        "plt.xlabel('Número de caras')\n",
        "plt.ylabel('Probabilidade')\n",
        "plt.title('Distribuição Binomial')\n",
        "plt.grid(True)\n",
        "plt.show()"
      ]
    },
    {
      "cell_type": "code",
      "execution_count": null,
      "metadata": {
        "ExecuteTime": {
          "end_time": "2020-10-28T20:39:42.404946Z",
          "start_time": "2020-10-28T20:39:42.235676Z"
        },
        "id": "mxXz8V3zIMbi",
        "outputId": "dac44b35-81b4-40a8-d711-88ccb661486b"
      },
      "outputs": [
        {
          "data": {
            "image/png": "[encoded data removed]",
            "text/plain": [
              "<Figure size 1008x432 with 1 Axes>"
            ]
          },
          "metadata": {
            "needs_background": "light"
          },
          "output_type": "display_data"
        }
      ],
      "source": [
        "from scipy.stats import norm\n",
        "mean = 15\n",
        "std = 4\n",
        "rv = norm(loc=mean, scale=std)\n",
        "\n",
        "\n",
        "variacao = np.linspace(-15,45,1000)\n",
        "\n",
        "# calcula probabilide de obter 0,1,2,...30 caras em 30 lançamentos\n",
        "resultado = rv.pdf(variacao)\n",
        "plt.subplots(figsize=(14,6))\n",
        "plt.plot(variacao,resultado, color='black')\n",
        "\n",
        "plt.xlabel('x')\n",
        "plt.ylabel('Probabilidade')\n",
        "plt.title('Distribuição Normal(0,1)')\n",
        "plt.grid(True)\n",
        "plt.show()"
      ]
    },
    {
      "cell_type": "code",
      "execution_count": null,
      "metadata": {
        "ExecuteTime": {
          "end_time": "2020-10-29T17:16:21.385378Z",
          "start_time": "2020-10-29T17:16:21.338529Z"
        },
        "id": "9RKCv8MyIMbi",
        "outputId": "9ae1d3f7-f8eb-4529-d0d2-ce9cbd16f57c"
      },
      "outputs": [
        {
          "name": "stdout",
          "output_type": "stream",
          "text": [
            "0.7887004526662893\n"
          ]
        }
      ],
      "source": [
        "from scipy.stats import norm\n",
        "mean = 15\n",
        "std = 4\n",
        "rv = norm(loc=mean, scale=std)\n",
        "\n",
        "# calcula a função acumulada de densidade de probabilibade\n",
        "resultado = rv.cdf(20)-rv.cdf(10)\n",
        "print(resultado)"
      ]
    },
    {
      "cell_type": "code",
      "execution_count": null,
      "metadata": {
        "ExecuteTime": {
          "end_time": "2020-10-28T19:23:10.055421Z",
          "start_time": "2020-10-28T19:23:09.785889Z"
        },
        "id": "ioul0tfcIMbj",
        "outputId": "adba2326-92ca-47ad-b157-07fbe1416aa0"
      },
      "outputs": [
        {
          "data": {
            "image/png": "[encoded data removed]",
            "text/plain": [
              "<Figure size 1008x432 with 1 Axes>"
            ]
          },
          "metadata": {
            "needs_background": "light"
          },
          "output_type": "display_data"
        }
      ],
      "source": [
        "# Poisson\n",
        "\n",
        "from scipy.stats import poisson\n",
        "taxa = 10\n",
        "rv = poisson(taxa)\n",
        "variacao = range(0,50,1)\n",
        "\n",
        "# calcula probabilide de obter 0,1,2,...30 caras em 30 lançamentos\n",
        "resultado = rv.pmf(variacao)\n",
        "plt.subplots(figsize=(14,6))\n",
        "plt.bar(variacao,resultado, color='black')\n",
        "\n",
        "plt.xlabel('x')\n",
        "plt.ylabel('Probabilidade')\n",
        "plt.title('Distribuição Poisson (taxa 10)')\n",
        "plt.grid(True)\n",
        "plt.show()"
      ]
    },
    {
      "cell_type": "markdown",
      "metadata": {
        "id": "f5CkOhQuIMbj"
      },
      "source": [
        "## Conteúdo extra"
      ]
    },
    {
      "cell_type": "code",
      "execution_count": null,
      "metadata": {
        "ExecuteTime": {
          "end_time": "2020-10-28T19:10:35.981031Z",
          "start_time": "2020-10-28T19:10:35.958840Z"
        },
        "id": "LTn94Fi6IMbk"
      },
      "outputs": [],
      "source": [
        "# exemplo: 3 variáveis de entrada com relacionamento não linear entre elas\n",
        "\n",
        "# Cria três variáveis com valores aleatórios uniformemente distribuídos no intervalo [0,0 1,0)\n",
        "x = np.random.random_sample(size=1000)\n",
        "y = np.random.random_sample(size=1000)\n",
        "z = np.random.random_sample(size=1000)\n",
        "\n",
        "# Cria uma variável formada pela combinação não linear das três anteriores\n",
        "w = x**2-y**2+z**3\n",
        "# Escalona w para que fique no intervalo [-1 1]\n",
        "w = w/np.max(np.abs(w))"
      ]
    },
    {
      "cell_type": "code",
      "execution_count": null,
      "metadata": {
        "ExecuteTime": {
          "end_time": "2020-10-28T19:10:51.993547Z",
          "start_time": "2020-10-28T19:10:51.376228Z"
        },
        "id": "OBgzfjTKIMbk",
        "outputId": "9c3d6a0b-9d9e-4895-ed31-e5f0ad112f3e"
      },
      "outputs": [
        {
          "data": {
            "image/png": "[encoded data removed]",
            "text/plain": [
              "<Figure size 1008x432 with 1 Axes>"
            ]
          },
          "metadata": {
            "needs_background": "light"
          },
          "output_type": "display_data"
        },
        {
          "data": {
            "image/png": "[encoded data removed]",
            "text/plain": [
              "<Figure size 1008x432 with 1 Axes>"
            ]
          },
          "metadata": {
            "needs_background": "light"
          },
          "output_type": "display_data"
        },
        {
          "name": "stdout",
          "output_type": "stream",
          "text": [
            "Matriz de correlações entre as variáveis\n",
            "[[ 1.          0.02932132  0.03484398  0.55758206]\n",
            " [ 0.02932132  1.          0.00125717 -0.57748303]\n",
            " [ 0.03484398  0.00125717  1.          0.51917798]\n",
            " [ 0.55758206 -0.57748303  0.51917798  1.        ]]\n",
            "\n",
            "Análise estatística/probabilística\n",
            "Média de w 0.12551779649402783, desvio padrão de w 0.3048693212997144\n"
          ]
        }
      ],
      "source": [
        "plt.subplots(figsize=(14,6))\n",
        "plt.plot(x,w,'.')\n",
        "plt.xlabel('x')\n",
        "plt.ylabel('w')\n",
        "plt.title('w = x**2-y**2+z**3')\n",
        "plt.grid(True)\n",
        "plt.show()\n",
        "\n",
        "plt.subplots(figsize=(14,6))\n",
        "plt.xlabel('w')\n",
        "plt.ylabel('Probabilidade')\n",
        "plt.title('Distribuição de probabilidade de W')\n",
        "plt.grid(True)\n",
        "n, bins, patches = plt.hist(w, density=True, facecolor='g', alpha=0.75, bins=50)\n",
        "plt.show()\n",
        "\n",
        "\n",
        "print('Matriz de correlações entre as variáveis')\n",
        "print(np.corrcoef([x,y,z,w]))\n",
        "\n",
        "print(\"\\nAnálise estatística/probabilística\")\n",
        "print(\"Média de w {}, desvio padrão de w {}\".format(np.mean(w),np.std(w)))\n",
        "\n"
      ]
    },
    {
      "cell_type": "markdown",
      "metadata": {
        "id": "MAXF12jnIMbk"
      },
      "source": [
        "\n",
        "\n",
        "A análise do gráfico não permite visualizar o relacionamento entre as variáveis (no caso w e x).\n",
        "\n",
        "A matriz de correlação sugere a existência de dependência entre as variáveis de entrada (x,y,z) e saída (w).\n",
        "\n",
        "Porém, a definição correta das relações é de difícil concepção sem uso de machine learning.\n",
        "\n",
        "Usando somente probabilidade, podemos caracterizar a distribuição de probabilidade dos valores de w como uma normal de média 0,1 e desvio padrão de 0,3\n"
      ]
    },
    {
      "cell_type": "code",
      "execution_count": null,
      "metadata": {
        "ExecuteTime": {
          "end_time": "2020-10-28T19:12:26.331883Z",
          "start_time": "2020-10-28T19:12:13.956842Z"
        },
        "id": "_TgFMMMAIMbl",
        "outputId": "b41da3cf-b38c-4dda-bf0b-005d5321cd7d"
      },
      "outputs": [
        {
          "name": "stderr",
          "output_type": "stream",
          "text": [
            "C:\\Users\\alixa\\Anaconda3\\lib\\site-packages\\sklearn\\neural_network\\multilayer_perceptron.py:1316: DataConversionWarning: A column-vector y was passed when a 1d array was expected. Please change the shape of y to (n_samples, ), for example using ravel().\n",
            "  y = column_or_1d(y, warn=True)\n"
          ]
        },
        {
          "name": "stdout",
          "output_type": "stream",
          "text": [
            "Iteration 1, loss = 0.21611803\n",
            "Iteration 2, loss = 0.14341755\n",
            "Iteration 3, loss = 0.07880311\n",
            "Iteration 4, loss = 0.05141057\n",
            "Iteration 5, loss = 0.04234660\n",
            "Iteration 6, loss = 0.04189155\n",
            "Iteration 7, loss = 0.04043295\n",
            "Iteration 8, loss = 0.03732199\n",
            "Iteration 9, loss = 0.03471398\n",
            "Iteration 10, loss = 0.03062305\n",
            "Iteration 11, loss = 0.02534543\n",
            "Iteration 12, loss = 0.02020653\n",
            "Iteration 13, loss = 0.01463046\n",
            "Iteration 14, loss = 0.00998143\n",
            "Iteration 15, loss = 0.00617049\n",
            "Iteration 16, loss = 0.00430696\n",
            "Iteration 17, loss = 0.00391939\n",
            "Iteration 18, loss = 0.00359557\n",
            "Iteration 19, loss = 0.00311852\n",
            "Iteration 20, loss = 0.00292337\n",
            "Iteration 21, loss = 0.00273288\n",
            "Iteration 22, loss = 0.00249424\n",
            "Iteration 23, loss = 0.00225814\n",
            "Iteration 24, loss = 0.00215209\n",
            "Iteration 25, loss = 0.00193770\n",
            "Iteration 26, loss = 0.00180454\n",
            "Iteration 27, loss = 0.00165533\n",
            "Iteration 28, loss = 0.00152929\n",
            "Iteration 29, loss = 0.00143868\n",
            "Iteration 30, loss = 0.00132597\n",
            "Iteration 31, loss = 0.00120812\n",
            "Iteration 32, loss = 0.00108710\n",
            "Iteration 33, loss = 0.00094464\n",
            "Iteration 34, loss = 0.00088237\n",
            "Iteration 35, loss = 0.00076498\n",
            "Iteration 36, loss = 0.00067575\n",
            "Iteration 37, loss = 0.00063628\n",
            "Iteration 38, loss = 0.00058261\n",
            "Iteration 39, loss = 0.00049289\n",
            "Iteration 40, loss = 0.00043614\n",
            "Iteration 41, loss = 0.00039186\n",
            "Iteration 42, loss = 0.00035991\n",
            "Iteration 43, loss = 0.00033341\n",
            "Iteration 44, loss = 0.00029783\n",
            "Iteration 45, loss = 0.00027956\n",
            "Iteration 46, loss = 0.00025672\n",
            "Training loss did not improve more than tol=0.000100 for 10 consecutive epochs. Stopping.\n"
          ]
        },
        {
          "data": {
            "text/plain": [
              "MLPRegressor(activation='relu', alpha=0.0001, batch_size='auto', beta_1=0.9,\n",
              "       beta_2=0.999, early_stopping=False, epsilon=1e-08,\n",
              "       hidden_layer_sizes=[100, 50, 40, 30, 20, 10],\n",
              "       learning_rate='adaptive', learning_rate_init=0.001, max_iter=200,\n",
              "       momentum=0.9, n_iter_no_change=10, nesterovs_momentum=True,\n",
              "       power_t=0.5, random_state=1, shuffle=True, solver='adam',\n",
              "       tol=0.0001, validation_fraction=0.1, verbose=True, warm_start=False)"
            ]
          },
          "execution_count": 14,
          "metadata": {},
          "output_type": "execute_result"
        }
      ],
      "source": [
        "from sklearn.neural_network import MLPRegressor\n",
        "\n",
        "# Cria uma matriz de 3 colunas com as variáveis de entrada x, y e z\n",
        "x_ = np.concatenate((np.reshape(x,(-1,1)),np.reshape(y,(-1,1)),np.reshape(z,(-1,1))), axis=1)\n",
        "# Cria uma matriz de 1 coluna com a variável w\n",
        "y_ = np.reshape(w,(-1,1))\n",
        "\n",
        "# Treina o modelo com 900 valores e testa com 100 valores\n",
        "x_train = x_[0:900,:]\n",
        "y_train = y_[0:900,:]\n",
        "x_test = x_[900:1000,:]\n",
        "y_test = y_[900:1000,:]\n",
        "\n",
        "estimator = MLPRegressor(\n",
        "                              learning_rate = 'adaptive',\n",
        "                              random_state = random_state,\n",
        "                              verbose=True,\n",
        "                                max_iter = 200,\n",
        "                            hidden_layer_sizes = [100,50,40,30,20,10],\n",
        "                    solver = 'adam',\n",
        "                    alpha = 0.0001,\n",
        "                    activation = 'relu'\n",
        "                            )\n",
        "\n",
        "estimator.fit(x_train,y_train)"
      ]
    },
    {
      "cell_type": "code",
      "execution_count": null,
      "metadata": {
        "ExecuteTime": {
          "end_time": "2020-10-28T19:12:33.253640Z",
          "start_time": "2020-10-28T19:12:32.815204Z"
        },
        "id": "XmiNKUH1IMbl",
        "outputId": "63d9c5da-a120-4745-d93b-25c190393551"
      },
      "outputs": [
        {
          "data": {
            "text/plain": [
              "<AxesSubplot:>"
            ]
          },
          "execution_count": 15,
          "metadata": {},
          "output_type": "execute_result"
        },
        {
          "data": {
            "image/png": "[encoded data removed]",
            "text/plain": [
              "<Figure size 1008x432 with 1 Axes>"
            ]
          },
          "metadata": {
            "needs_background": "light"
          },
          "output_type": "display_data"
        }
      ],
      "source": [
        "\n",
        "\n",
        "pd.DataFrame(estimator.loss_curve_).plot(figsize=(14,6))\n",
        "\n"
      ]
    },
    {
      "cell_type": "code",
      "execution_count": null,
      "metadata": {
        "ExecuteTime": {
          "end_time": "2020-10-28T19:12:48.778914Z",
          "start_time": "2020-10-28T19:12:48.547262Z"
        },
        "id": "_uYMBgoVIMbl",
        "outputId": "41393f72-d5d4-4114-b30b-5a5cc7750d65"
      },
      "outputs": [
        {
          "data": {
            "image/png": "[encoded data removed]",
            "text/plain": [
              "<Figure size 1008x432 with 1 Axes>"
            ]
          },
          "metadata": {
            "needs_background": "light"
          },
          "output_type": "display_data"
        }
      ],
      "source": [
        "# Testa o modelo com os 100 exemplos reservados para teste (não usados no treinamento),\n",
        "# de forma a verificar a capacidade de generalização\n",
        "\n",
        "plt.subplots(figsize=(14,6))\n",
        "plt.plot(y_test,'r.')\n",
        "plt.plot(estimator.predict(x_test),'b*')\n",
        "plt.xlabel('Amostra de teste')\n",
        "plt.ylabel('w')\n",
        "plt.title('w = x**2-y**2+z**3  -  Vermelho = valor real, Azul = previsão da rede neural')\n",
        "plt.grid(True)\n",
        "plt.show()"
      ]
    },
    {
      "cell_type": "markdown",
      "metadata": {
        "id": "WDt2ZK5LIMbm"
      },
      "source": [
        "A rede neural conseguiu capturar corretamente o relacionamento não linear entre as variáveis."
      ]
    },
    {
      "cell_type": "markdown",
      "metadata": {
        "id": "_hNnRwALIMbm"
      },
      "source": [
        "## Exercícios"
      ]
    },
    {
      "cell_type": "markdown",
      "metadata": {
        "ExecuteTime": {
          "end_time": "2020-10-28T18:39:15.407711Z",
          "start_time": "2020-10-28T18:39:15.376462Z"
        },
        "id": "XqRntoudIMbm"
      },
      "source": [
        "1.Considere uma distribuição normal com média 10 e desvio padrão 3.\n",
        "\n",
        "   a)Desenhe um esboço desta distribuição.<br>\n",
        "   b)Qual é a proporção da área sob a curva entre 7 e 13?\n",
        "\n",
        "2.Usinas nucleares que utilizam água para refrigeração de seus condensadores algumas vezes liberam água quente em rios, lagos ou oceanos. Sabe-se que a água quente acima de certa temperatura tem um efeito indesejado sobre plantas e animais que vivem nesses ambientes. Suponha que a alta temperatura liberada por uma certa usina nuclear tem uma distribuição Normal com média 5$^\\circ$C e um desvio padrão de 0.5$^\\circ$C.\n",
        "\n",
        "   a) Faça um esboço da distribuição.<br>\n",
        "   b) Qual o percentual de dias nos quais o aumento da temperatura é maior do que 5.5$^\\circ$C?\n",
        "\n",
        "3.A concentração de cadmio em cinzas de um certo lixo radioativo tem distribuição N(1,0.72). Quais são as chances de que uma amostra aleatória das cinzas tenha uma concentração de cadmio entre 0.5 e 1.75 ppm?\n",
        "\n"
      ]
    },
    {
      "cell_type": "code",
      "execution_count": null,
      "metadata": {
        "ExecuteTime": {
          "end_time": "2020-10-29T17:18:23.670661Z",
          "start_time": "2020-10-29T17:18:23.655042Z"
        },
        "id": "iG-zIbBNIMbn"
      },
      "outputs": [],
      "source": []
    }
  ],
  "metadata": {
    "kernelspec": {
      "display_name": "Python 3 (ipykernel)",
      "language": "python",
      "name": "python3"
    },
    "language_info": {
      "codemirror_mode": {
        "name": "ipython",
        "version": 3
      },
      "file_extension": ".py",
      "mimetype": "text/x-python",
      "name": "python",
      "nbconvert_exporter": "python",
      "pygments_lexer": "ipython3",
      "version": "3.9.12"
    },
    "toc": {
      "base_numbering": 1,
      "nav_menu": {},
      "number_sections": true,
      "sideBar": true,
      "skip_h1_title": false,
      "title_cell": "Table of Contents",
      "title_sidebar": "Contents",
      "toc_cell": false,
      "toc_position": {},
      "toc_section_display": true,
      "toc_window_display": true
    },
    "colab": {
      "provenance": []
    }
  },
  "nbformat": 4,
  "nbformat_minor": 0
}