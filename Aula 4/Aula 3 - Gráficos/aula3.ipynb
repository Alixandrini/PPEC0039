{
 "cells": [
  {
   "cell_type": "markdown",
   "metadata": {
    "id": "2OH0Z08Wvqc6",
    "toc": true
   },
   "source": [
    "<h1>Table of Contents<span class=\"tocSkip\"></span></h1>\n",
    "<div class=\"toc\"><ul class=\"toc-item\"><li><span><a href=\"#Descrição-e-exploração-de-dados\" data-toc-modified-id=\"Descrição-e-exploração-de-dados-1\"><span class=\"toc-item-num\">1&nbsp;&nbsp;</span>Descrição e exploração de dados</a></span><ul class=\"toc-item\"><li><span><a href=\"#Dados-Categorizados\" data-toc-modified-id=\"Dados-Categorizados-1.1\"><span class=\"toc-item-num\">1.1&nbsp;&nbsp;</span>Dados Categorizados</a></span><ul class=\"toc-item\"><li><span><a href=\"#Distribuição-de-frequências\" data-toc-modified-id=\"Distribuição-de-frequências-1.1.1\"><span class=\"toc-item-num\">1.1.1&nbsp;&nbsp;</span>Distribuição de frequências</a></span><ul class=\"toc-item\"><li><span><a href=\"#Tabela-de-frequências\" data-toc-modified-id=\"Tabela-de-frequências-1.1.1.1\"><span class=\"toc-item-num\">1.1.1.1&nbsp;&nbsp;</span>Tabela de frequências</a></span></li></ul></li><li><span><a href=\"#Representações-Gráficas\" data-toc-modified-id=\"Representações-Gráficas-1.1.2\"><span class=\"toc-item-num\">1.1.2&nbsp;&nbsp;</span>Representações Gráficas</a></span><ul class=\"toc-item\"><li><span><a href=\"#Gráfico-de-Barras\" data-toc-modified-id=\"Gráfico-de-Barras-1.1.2.1\"><span class=\"toc-item-num\">1.1.2.1&nbsp;&nbsp;</span>Gráfico de Barras</a></span></li><li><span><a href=\"#Gráfico-de-Setores\" data-toc-modified-id=\"Gráfico-de-Setores-1.1.2.2\"><span class=\"toc-item-num\">1.1.2.2&nbsp;&nbsp;</span>Gráfico de Setores</a></span></li><li><span><a href=\"#Gráfico-de-Barras-multiplas\" data-toc-modified-id=\"Gráfico-de-Barras-multiplas-1.1.2.3\"><span class=\"toc-item-num\">1.1.2.3&nbsp;&nbsp;</span>Gráfico de Barras multiplas</a></span></li></ul></li></ul></li></ul></li></ul></div>"
   ]
  },
  {
   "cell_type": "markdown",
   "metadata": {
    "id": "khvysIQrvqdD"
   },
   "source": [
    "# Primeiro Notebook em R"
   ]
  },
  {
   "cell_type": "markdown",
   "metadata": {
    "id": "pM1xmTlCvqdF"
   },
   "source": [
    "Para que você crie um Notebook Jupyter em R você precisará de um Kernel apropriado.\n",
    "\n",
    "Para instalação do Kernel de R no Jupter Notebook você pode instalar o **R-Irkernel**  via Anaconda Navigator (você irá procurar pelo nome em *Enviroments/base(root)/Not installed/R-Irkernel* ou prompt do Anaconda com o seguinte comando `conda install -c r r-irkernel` \n",
    "\n",
    "Neste Tutorial iremos abordar Topicos da Parte II capitulo 4 de [BARBETA,2011](https://www.estantevirtual.com.br/ciadosaber/pedro-alberto-barbetta-estatistica-aplicada-as-ciencias-sociais-2460325252) Descrição e Exploração de dados/Dados categorizados, utilizando para os exemplos codigos em R."
   ]
  },
  {
   "cell_type": "markdown",
   "metadata": {
    "id": "uAuSk0GxvqdH"
   },
   "source": [
    "## Descrição e exploração de dados"
   ]
  },
  {
   "cell_type": "markdown",
   "metadata": {
    "id": "AUdVHUf8vqdH"
   },
   "source": [
    "### Dados Categorizados\n",
    "Antes de começar é preciso baixar o arquivo [aqui](https://github.com/Alixandrini/ENGM29/blob/master/Data/PIB_municipios_IBGE.Rda?raw=true)\n",
    "e carregalo no menu lateral icone arquivos e buscar o icone de upload. O arquivo deve ser carregado na pasta contend ou copie o caminho clicando com o botão direito do mouse sobre o arquivo carregado e substituindo o caminho no comando abaixo."
   ]
  },
  {
   "cell_type": "code",
   "execution_count": 43,
   "metadata": {
    "ExecuteTime": {
     "end_time": "2021-03-19T17:10:40.827597Z",
     "start_time": "2021-03-19T17:10:33.288Z"
    },
    "executionInfo": {
     "elapsed": 833,
     "status": "ok",
     "timestamp": 1616521294115,
     "user": {
      "displayName": "Mauro Alixandrini Jr",
      "photoUrl": "https://lh3.googleusercontent.com/a-/AOh14Gg9C33PtOBVdDn1u8Obla34FWkQofJILPqMFSjXVH4=s64",
      "userId": "14881978544774885843"
     },
     "user_tz": 180
    },
    "id": "IL0q74FbvqdI"
   },
   "outputs": [],
   "source": [
    " mydata = read.csv(file='/content/sample_data/california_housing_test.csv')"
   ]
  },
  {
   "cell_type": "code",
   "execution_count": 44,
   "metadata": {
    "ExecuteTime": {
     "end_time": "2021-03-19T17:10:41.696348Z",
     "start_time": "2021-03-19T17:10:41.631Z"
    },
    "colab": {
     "base_uri": "https://localhost:8080/",
     "height": 52
    },
    "executionInfo": {
     "elapsed": 837,
     "status": "ok",
     "timestamp": 1616521314783,
     "user": {
      "displayName": "Mauro Alixandrini Jr",
      "photoUrl": "https://lh3.googleusercontent.com/a-/AOh14Gg9C33PtOBVdDn1u8Obla34FWkQofJILPqMFSjXVH4=s64",
      "userId": "14881978544774885843"
     },
     "user_tz": 180
    },
    "id": "j8mZO8UXvqdJ",
    "outputId": "27ee0308-7c54-4945-e4ac-71285d254b20"
   },
   "outputs": [
    {
     "data": {
      "text/html": [
       "<style>\n",
       ".list-inline {list-style: none; margin:0; padding: 0}\n",
       ".list-inline>li {display: inline-block}\n",
       ".list-inline>li:not(:last-child)::after {content: \"\\00b7\"; padding: 0 .5ex}\n",
       "</style>\n",
       "<ol class=list-inline><li>'longitude'</li><li>'latitude'</li><li>'housing_median_age'</li><li>'total_rooms'</li><li>'total_bedrooms'</li><li>'population'</li><li>'households'</li><li>'median_income'</li><li>'median_house_value'</li></ol>\n"
      ],
      "text/latex": [
       "\\begin{enumerate*}\n",
       "\\item 'longitude'\n",
       "\\item 'latitude'\n",
       "\\item 'housing\\_median\\_age'\n",
       "\\item 'total\\_rooms'\n",
       "\\item 'total\\_bedrooms'\n",
       "\\item 'population'\n",
       "\\item 'households'\n",
       "\\item 'median\\_income'\n",
       "\\item 'median\\_house\\_value'\n",
       "\\end{enumerate*}\n"
      ],
      "text/markdown": [
       "1. 'longitude'\n",
       "2. 'latitude'\n",
       "3. 'housing_median_age'\n",
       "4. 'total_rooms'\n",
       "5. 'total_bedrooms'\n",
       "6. 'population'\n",
       "7. 'households'\n",
       "8. 'median_income'\n",
       "9. 'median_house_value'\n",
       "\n",
       "\n"
      ],
      "text/plain": [
       "[1] \"longitude\"          \"latitude\"           \"housing_median_age\"\n",
       "[4] \"total_rooms\"        \"total_bedrooms\"     \"population\"        \n",
       "[7] \"households\"         \"median_income\"      \"median_house_value\""
      ]
     },
     "metadata": {
      "tags": []
     },
     "output_type": "display_data"
    }
   ],
   "source": [
    "colnames(mydata)"
   ]
  },
  {
   "cell_type": "code",
   "execution_count": 45,
   "metadata": {
    "ExecuteTime": {
     "end_time": "2021-03-19T17:10:46.432261Z",
     "start_time": "2021-03-19T17:10:46.324Z"
    },
    "colab": {
     "base_uri": "https://localhost:8080/",
     "height": 54
    },
    "executionInfo": {
     "elapsed": 1148,
     "status": "ok",
     "timestamp": 1616521346272,
     "user": {
      "displayName": "Mauro Alixandrini Jr",
      "photoUrl": "https://lh3.googleusercontent.com/a-/AOh14Gg9C33PtOBVdDn1u8Obla34FWkQofJILPqMFSjXVH4=s64",
      "userId": "14881978544774885843"
     },
     "user_tz": 180
    },
    "id": "AApYhDXWvqdL",
    "outputId": "49d738f9-ab1e-4bf4-c989-356ccd4b282d"
   },
   "outputs": [
    {
     "data": {
      "text/plain": [
       "   Min. 1st Qu.  Median    Mean 3rd Qu.    Max. \n",
       "  22500  121200  177650  205846  263975  500001 "
      ]
     },
     "metadata": {
      "tags": []
     },
     "output_type": "display_data"
    }
   ],
   "source": [
    "summary(mydata$'median_house_value')"
   ]
  },
  {
   "cell_type": "markdown",
   "metadata": {
    "id": "fPlngNO1vqdL"
   },
   "source": [
    "#### Distribuição de frequências"
   ]
  },
  {
   "cell_type": "code",
   "execution_count": 48,
   "metadata": {
    "ExecuteTime": {
     "end_time": "2021-03-19T17:10:50.148560Z",
     "start_time": "2021-03-19T17:10:50.072Z"
    },
    "executionInfo": {
     "elapsed": 1661,
     "status": "ok",
     "timestamp": 1616521416031,
     "user": {
      "displayName": "Mauro Alixandrini Jr",
      "photoUrl": "https://lh3.googleusercontent.com/a-/AOh14Gg9C33PtOBVdDn1u8Obla34FWkQofJILPqMFSjXVH4=s64",
      "userId": "14881978544774885843"
     },
     "user_tz": 180
    },
    "id": "hqa7M99hvqdL"
   },
   "outputs": [],
   "source": [
    "sample1=mydata[sample(nrow(mydata), 50),c('households','median_house_value') ]"
   ]
  },
  {
   "cell_type": "code",
   "execution_count": 50,
   "metadata": {
    "ExecuteTime": {
     "end_time": "2021-03-19T17:14:00.713393Z",
     "start_time": "2021-03-19T17:14:00.615Z"
    },
    "executionInfo": {
     "elapsed": 1330,
     "status": "ok",
     "timestamp": 1616521452906,
     "user": {
      "displayName": "Mauro Alixandrini Jr",
      "photoUrl": "https://lh3.googleusercontent.com/a-/AOh14Gg9C33PtOBVdDn1u8Obla34FWkQofJILPqMFSjXVH4=s64",
      "userId": "14881978544774885843"
     },
     "user_tz": 180
    },
    "id": "McVNbUiQvqdN"
   },
   "outputs": [],
   "source": [
    "sample2=mydata[sample(nrow(mydata), 50),c(\"households\",'total_bedrooms')]"
   ]
  },
  {
   "cell_type": "code",
   "execution_count": 51,
   "metadata": {
    "ExecuteTime": {
     "end_time": "2021-03-19T17:25:59.553338Z",
     "start_time": "2021-03-19T17:25:59.484Z"
    },
    "executionInfo": {
     "elapsed": 1348,
     "status": "ok",
     "timestamp": 1616521495769,
     "user": {
      "displayName": "Mauro Alixandrini Jr",
      "photoUrl": "https://lh3.googleusercontent.com/a-/AOh14Gg9C33PtOBVdDn1u8Obla34FWkQofJILPqMFSjXVH4=s64",
      "userId": "14881978544774885843"
     },
     "user_tz": 180
    },
    "id": "SjDLKlJyvqdO"
   },
   "outputs": [],
   "source": [
    "Freq<-transform(table(sample1$'median_house_value'))\n",
    "Freq1<-transform(table(sample2$'total_bedrooms'))"
   ]
  },
  {
   "cell_type": "code",
   "execution_count": 57,
   "metadata": {
    "ExecuteTime": {
     "end_time": "2021-03-19T17:26:00.306936Z",
     "start_time": "2021-03-19T17:26:00.237Z"
    },
    "colab": {
     "base_uri": "https://localhost:8080/",
     "height": 1000
    },
    "executionInfo": {
     "elapsed": 1197,
     "status": "ok",
     "timestamp": 1616521741193,
     "user": {
      "displayName": "Mauro Alixandrini Jr",
      "photoUrl": "https://lh3.googleusercontent.com/a-/AOh14Gg9C33PtOBVdDn1u8Obla34FWkQofJILPqMFSjXVH4=s64",
      "userId": "14881978544774885843"
     },
     "user_tz": 180
    },
    "id": "KUN5BtfFvqdO",
    "outputId": "02abbb9e-82ba-4cf4-ae49-bbd29b2a4aa0"
   },
   "outputs": [
    {
     "data": {
      "text/html": [
       "<table class=\"dataframe\">\n",
       "<caption>A data.frame: 48 × 2</caption>\n",
       "<thead>\n",
       "\t<tr><th scope=col>households</th><th scope=col>Frequencia</th></tr>\n",
       "\t<tr><th scope=col>&lt;fct&gt;</th><th scope=col>&lt;int&gt;</th></tr>\n",
       "</thead>\n",
       "<tbody>\n",
       "\t<tr><td>58300 </td><td>1</td></tr>\n",
       "\t<tr><td>61300 </td><td>1</td></tr>\n",
       "\t<tr><td>66600 </td><td>1</td></tr>\n",
       "\t<tr><td>71300 </td><td>1</td></tr>\n",
       "\t<tr><td>83400 </td><td>1</td></tr>\n",
       "\t<tr><td>87500 </td><td>1</td></tr>\n",
       "\t<tr><td>95000 </td><td>1</td></tr>\n",
       "\t<tr><td>97900 </td><td>1</td></tr>\n",
       "\t<tr><td>1e+05 </td><td>1</td></tr>\n",
       "\t<tr><td>101900</td><td>1</td></tr>\n",
       "\t<tr><td>103300</td><td>1</td></tr>\n",
       "\t<tr><td>109100</td><td>1</td></tr>\n",
       "\t<tr><td>122900</td><td>1</td></tr>\n",
       "\t<tr><td>130100</td><td>1</td></tr>\n",
       "\t<tr><td>139700</td><td>1</td></tr>\n",
       "\t<tr><td>146000</td><td>1</td></tr>\n",
       "\t<tr><td>155000</td><td>1</td></tr>\n",
       "\t<tr><td>157700</td><td>1</td></tr>\n",
       "\t<tr><td>165600</td><td>1</td></tr>\n",
       "\t<tr><td>170800</td><td>1</td></tr>\n",
       "\t<tr><td>172800</td><td>1</td></tr>\n",
       "\t<tr><td>174100</td><td>1</td></tr>\n",
       "\t<tr><td>182700</td><td>1</td></tr>\n",
       "\t<tr><td>182800</td><td>1</td></tr>\n",
       "\t<tr><td>186600</td><td>1</td></tr>\n",
       "\t<tr><td>189400</td><td>1</td></tr>\n",
       "\t<tr><td>191800</td><td>1</td></tr>\n",
       "\t<tr><td>195000</td><td>1</td></tr>\n",
       "\t<tr><td>204800</td><td>1</td></tr>\n",
       "\t<tr><td>206300</td><td>1</td></tr>\n",
       "\t<tr><td>210900</td><td>1</td></tr>\n",
       "\t<tr><td>211400</td><td>1</td></tr>\n",
       "\t<tr><td>231800</td><td>1</td></tr>\n",
       "\t<tr><td>234400</td><td>1</td></tr>\n",
       "\t<tr><td>235300</td><td>1</td></tr>\n",
       "\t<tr><td>252700</td><td>1</td></tr>\n",
       "\t<tr><td>264700</td><td>1</td></tr>\n",
       "\t<tr><td>288500</td><td>1</td></tr>\n",
       "\t<tr><td>304800</td><td>1</td></tr>\n",
       "\t<tr><td>318400</td><td>1</td></tr>\n",
       "\t<tr><td>329400</td><td>1</td></tr>\n",
       "\t<tr><td>332800</td><td>1</td></tr>\n",
       "\t<tr><td>340700</td><td>1</td></tr>\n",
       "\t<tr><td>353900</td><td>1</td></tr>\n",
       "\t<tr><td>364000</td><td>1</td></tr>\n",
       "\t<tr><td>411500</td><td>1</td></tr>\n",
       "\t<tr><td>414800</td><td>1</td></tr>\n",
       "\t<tr><td>500001</td><td>3</td></tr>\n",
       "</tbody>\n",
       "</table>\n"
      ],
      "text/latex": [
       "A data.frame: 48 × 2\n",
       "\\begin{tabular}{ll}\n",
       " households & Frequencia\\\\\n",
       " <fct> & <int>\\\\\n",
       "\\hline\n",
       "\t 58300  & 1\\\\\n",
       "\t 61300  & 1\\\\\n",
       "\t 66600  & 1\\\\\n",
       "\t 71300  & 1\\\\\n",
       "\t 83400  & 1\\\\\n",
       "\t 87500  & 1\\\\\n",
       "\t 95000  & 1\\\\\n",
       "\t 97900  & 1\\\\\n",
       "\t 1e+05  & 1\\\\\n",
       "\t 101900 & 1\\\\\n",
       "\t 103300 & 1\\\\\n",
       "\t 109100 & 1\\\\\n",
       "\t 122900 & 1\\\\\n",
       "\t 130100 & 1\\\\\n",
       "\t 139700 & 1\\\\\n",
       "\t 146000 & 1\\\\\n",
       "\t 155000 & 1\\\\\n",
       "\t 157700 & 1\\\\\n",
       "\t 165600 & 1\\\\\n",
       "\t 170800 & 1\\\\\n",
       "\t 172800 & 1\\\\\n",
       "\t 174100 & 1\\\\\n",
       "\t 182700 & 1\\\\\n",
       "\t 182800 & 1\\\\\n",
       "\t 186600 & 1\\\\\n",
       "\t 189400 & 1\\\\\n",
       "\t 191800 & 1\\\\\n",
       "\t 195000 & 1\\\\\n",
       "\t 204800 & 1\\\\\n",
       "\t 206300 & 1\\\\\n",
       "\t 210900 & 1\\\\\n",
       "\t 211400 & 1\\\\\n",
       "\t 231800 & 1\\\\\n",
       "\t 234400 & 1\\\\\n",
       "\t 235300 & 1\\\\\n",
       "\t 252700 & 1\\\\\n",
       "\t 264700 & 1\\\\\n",
       "\t 288500 & 1\\\\\n",
       "\t 304800 & 1\\\\\n",
       "\t 318400 & 1\\\\\n",
       "\t 329400 & 1\\\\\n",
       "\t 332800 & 1\\\\\n",
       "\t 340700 & 1\\\\\n",
       "\t 353900 & 1\\\\\n",
       "\t 364000 & 1\\\\\n",
       "\t 411500 & 1\\\\\n",
       "\t 414800 & 1\\\\\n",
       "\t 500001 & 3\\\\\n",
       "\\end{tabular}\n"
      ],
      "text/markdown": [
       "\n",
       "A data.frame: 48 × 2\n",
       "\n",
       "| households &lt;fct&gt; | Frequencia &lt;int&gt; |\n",
       "|---|---|\n",
       "| 58300  | 1 |\n",
       "| 61300  | 1 |\n",
       "| 66600  | 1 |\n",
       "| 71300  | 1 |\n",
       "| 83400  | 1 |\n",
       "| 87500  | 1 |\n",
       "| 95000  | 1 |\n",
       "| 97900  | 1 |\n",
       "| 1e+05  | 1 |\n",
       "| 101900 | 1 |\n",
       "| 103300 | 1 |\n",
       "| 109100 | 1 |\n",
       "| 122900 | 1 |\n",
       "| 130100 | 1 |\n",
       "| 139700 | 1 |\n",
       "| 146000 | 1 |\n",
       "| 155000 | 1 |\n",
       "| 157700 | 1 |\n",
       "| 165600 | 1 |\n",
       "| 170800 | 1 |\n",
       "| 172800 | 1 |\n",
       "| 174100 | 1 |\n",
       "| 182700 | 1 |\n",
       "| 182800 | 1 |\n",
       "| 186600 | 1 |\n",
       "| 189400 | 1 |\n",
       "| 191800 | 1 |\n",
       "| 195000 | 1 |\n",
       "| 204800 | 1 |\n",
       "| 206300 | 1 |\n",
       "| 210900 | 1 |\n",
       "| 211400 | 1 |\n",
       "| 231800 | 1 |\n",
       "| 234400 | 1 |\n",
       "| 235300 | 1 |\n",
       "| 252700 | 1 |\n",
       "| 264700 | 1 |\n",
       "| 288500 | 1 |\n",
       "| 304800 | 1 |\n",
       "| 318400 | 1 |\n",
       "| 329400 | 1 |\n",
       "| 332800 | 1 |\n",
       "| 340700 | 1 |\n",
       "| 353900 | 1 |\n",
       "| 364000 | 1 |\n",
       "| 411500 | 1 |\n",
       "| 414800 | 1 |\n",
       "| 500001 | 3 |\n",
       "\n"
      ],
      "text/plain": [
       "   households Frequencia\n",
       "1  58300      1         \n",
       "2  61300      1         \n",
       "3  66600      1         \n",
       "4  71300      1         \n",
       "5  83400      1         \n",
       "6  87500      1         \n",
       "7  95000      1         \n",
       "8  97900      1         \n",
       "9  1e+05      1         \n",
       "10 101900     1         \n",
       "11 103300     1         \n",
       "12 109100     1         \n",
       "13 122900     1         \n",
       "14 130100     1         \n",
       "15 139700     1         \n",
       "16 146000     1         \n",
       "17 155000     1         \n",
       "18 157700     1         \n",
       "19 165600     1         \n",
       "20 170800     1         \n",
       "21 172800     1         \n",
       "22 174100     1         \n",
       "23 182700     1         \n",
       "24 182800     1         \n",
       "25 186600     1         \n",
       "26 189400     1         \n",
       "27 191800     1         \n",
       "28 195000     1         \n",
       "29 204800     1         \n",
       "30 206300     1         \n",
       "31 210900     1         \n",
       "32 211400     1         \n",
       "33 231800     1         \n",
       "34 234400     1         \n",
       "35 235300     1         \n",
       "36 252700     1         \n",
       "37 264700     1         \n",
       "38 288500     1         \n",
       "39 304800     1         \n",
       "40 318400     1         \n",
       "41 329400     1         \n",
       "42 332800     1         \n",
       "43 340700     1         \n",
       "44 353900     1         \n",
       "45 364000     1         \n",
       "46 411500     1         \n",
       "47 414800     1         \n",
       "48 500001     3         "
      ]
     },
     "metadata": {
      "tags": []
     },
     "output_type": "display_data"
    }
   ],
   "source": [
    "\n",
    "colnames(Freq)[colnames(Freq) == \"Freq\"] <- \"Frequencia\"\n",
    "colnames(Freq)[colnames(Freq) == \"Var1\"] <- \"median_house_value\"\n",
    "Freq"
   ]
  },
  {
   "cell_type": "code",
   "execution_count": 56,
   "metadata": {
    "ExecuteTime": {
     "end_time": "2021-03-19T17:14:27.536452Z",
     "start_time": "2021-03-19T17:14:27.453Z"
    },
    "colab": {
     "base_uri": "https://localhost:8080/",
     "height": 1000
    },
    "executionInfo": {
     "elapsed": 809,
     "status": "ok",
     "timestamp": 1616521654998,
     "user": {
      "displayName": "Mauro Alixandrini Jr",
      "photoUrl": "https://lh3.googleusercontent.com/a-/AOh14Gg9C33PtOBVdDn1u8Obla34FWkQofJILPqMFSjXVH4=s64",
      "userId": "14881978544774885843"
     },
     "user_tz": 180
    },
    "id": "oDCKnc80vqdO",
    "outputId": "b56deb9d-8a31-4d1a-ee6a-09fc9b711796"
   },
   "outputs": [
    {
     "data": {
      "text/html": [
       "<table class=\"dataframe\">\n",
       "<caption>A data.frame: 49 × 2</caption>\n",
       "<thead>\n",
       "\t<tr><th scope=col>total_bedrooms</th><th scope=col>Frequencia</th></tr>\n",
       "\t<tr><th scope=col>&lt;fct&gt;</th><th scope=col>&lt;int&gt;</th></tr>\n",
       "</thead>\n",
       "<tbody>\n",
       "\t<tr><td>8   </td><td>1</td></tr>\n",
       "\t<tr><td>117 </td><td>1</td></tr>\n",
       "\t<tr><td>146 </td><td>1</td></tr>\n",
       "\t<tr><td>150 </td><td>1</td></tr>\n",
       "\t<tr><td>168 </td><td>1</td></tr>\n",
       "\t<tr><td>169 </td><td>1</td></tr>\n",
       "\t<tr><td>209 </td><td>1</td></tr>\n",
       "\t<tr><td>225 </td><td>1</td></tr>\n",
       "\t<tr><td>242 </td><td>1</td></tr>\n",
       "\t<tr><td>250 </td><td>1</td></tr>\n",
       "\t<tr><td>257 </td><td>1</td></tr>\n",
       "\t<tr><td>261 </td><td>1</td></tr>\n",
       "\t<tr><td>284 </td><td>1</td></tr>\n",
       "\t<tr><td>297 </td><td>1</td></tr>\n",
       "\t<tr><td>305 </td><td>1</td></tr>\n",
       "\t<tr><td>322 </td><td>1</td></tr>\n",
       "\t<tr><td>329 </td><td>1</td></tr>\n",
       "\t<tr><td>348 </td><td>1</td></tr>\n",
       "\t<tr><td>351 </td><td>1</td></tr>\n",
       "\t<tr><td>364 </td><td>1</td></tr>\n",
       "\t<tr><td>372 </td><td>1</td></tr>\n",
       "\t<tr><td>375 </td><td>1</td></tr>\n",
       "\t<tr><td>382 </td><td>1</td></tr>\n",
       "\t<tr><td>389 </td><td>1</td></tr>\n",
       "\t<tr><td>393 </td><td>1</td></tr>\n",
       "\t<tr><td>422 </td><td>1</td></tr>\n",
       "\t<tr><td>434 </td><td>1</td></tr>\n",
       "\t<tr><td>471 </td><td>1</td></tr>\n",
       "\t<tr><td>493 </td><td>2</td></tr>\n",
       "\t<tr><td>496 </td><td>1</td></tr>\n",
       "\t<tr><td>507 </td><td>1</td></tr>\n",
       "\t<tr><td>516 </td><td>1</td></tr>\n",
       "\t<tr><td>545 </td><td>1</td></tr>\n",
       "\t<tr><td>547 </td><td>1</td></tr>\n",
       "\t<tr><td>548 </td><td>1</td></tr>\n",
       "\t<tr><td>552 </td><td>1</td></tr>\n",
       "\t<tr><td>560 </td><td>1</td></tr>\n",
       "\t<tr><td>626 </td><td>1</td></tr>\n",
       "\t<tr><td>629 </td><td>1</td></tr>\n",
       "\t<tr><td>672 </td><td>1</td></tr>\n",
       "\t<tr><td>823 </td><td>1</td></tr>\n",
       "\t<tr><td>953 </td><td>1</td></tr>\n",
       "\t<tr><td>1082</td><td>1</td></tr>\n",
       "\t<tr><td>1137</td><td>1</td></tr>\n",
       "\t<tr><td>1139</td><td>1</td></tr>\n",
       "\t<tr><td>1201</td><td>1</td></tr>\n",
       "\t<tr><td>1317</td><td>1</td></tr>\n",
       "\t<tr><td>1860</td><td>1</td></tr>\n",
       "\t<tr><td>2696</td><td>1</td></tr>\n",
       "</tbody>\n",
       "</table>\n"
      ],
      "text/latex": [
       "A data.frame: 49 × 2\n",
       "\\begin{tabular}{ll}\n",
       " total\\_bedrooms & Frequencia\\\\\n",
       " <fct> & <int>\\\\\n",
       "\\hline\n",
       "\t 8    & 1\\\\\n",
       "\t 117  & 1\\\\\n",
       "\t 146  & 1\\\\\n",
       "\t 150  & 1\\\\\n",
       "\t 168  & 1\\\\\n",
       "\t 169  & 1\\\\\n",
       "\t 209  & 1\\\\\n",
       "\t 225  & 1\\\\\n",
       "\t 242  & 1\\\\\n",
       "\t 250  & 1\\\\\n",
       "\t 257  & 1\\\\\n",
       "\t 261  & 1\\\\\n",
       "\t 284  & 1\\\\\n",
       "\t 297  & 1\\\\\n",
       "\t 305  & 1\\\\\n",
       "\t 322  & 1\\\\\n",
       "\t 329  & 1\\\\\n",
       "\t 348  & 1\\\\\n",
       "\t 351  & 1\\\\\n",
       "\t 364  & 1\\\\\n",
       "\t 372  & 1\\\\\n",
       "\t 375  & 1\\\\\n",
       "\t 382  & 1\\\\\n",
       "\t 389  & 1\\\\\n",
       "\t 393  & 1\\\\\n",
       "\t 422  & 1\\\\\n",
       "\t 434  & 1\\\\\n",
       "\t 471  & 1\\\\\n",
       "\t 493  & 2\\\\\n",
       "\t 496  & 1\\\\\n",
       "\t 507  & 1\\\\\n",
       "\t 516  & 1\\\\\n",
       "\t 545  & 1\\\\\n",
       "\t 547  & 1\\\\\n",
       "\t 548  & 1\\\\\n",
       "\t 552  & 1\\\\\n",
       "\t 560  & 1\\\\\n",
       "\t 626  & 1\\\\\n",
       "\t 629  & 1\\\\\n",
       "\t 672  & 1\\\\\n",
       "\t 823  & 1\\\\\n",
       "\t 953  & 1\\\\\n",
       "\t 1082 & 1\\\\\n",
       "\t 1137 & 1\\\\\n",
       "\t 1139 & 1\\\\\n",
       "\t 1201 & 1\\\\\n",
       "\t 1317 & 1\\\\\n",
       "\t 1860 & 1\\\\\n",
       "\t 2696 & 1\\\\\n",
       "\\end{tabular}\n"
      ],
      "text/markdown": [
       "\n",
       "A data.frame: 49 × 2\n",
       "\n",
       "| total_bedrooms &lt;fct&gt; | Frequencia &lt;int&gt; |\n",
       "|---|---|\n",
       "| 8    | 1 |\n",
       "| 117  | 1 |\n",
       "| 146  | 1 |\n",
       "| 150  | 1 |\n",
       "| 168  | 1 |\n",
       "| 169  | 1 |\n",
       "| 209  | 1 |\n",
       "| 225  | 1 |\n",
       "| 242  | 1 |\n",
       "| 250  | 1 |\n",
       "| 257  | 1 |\n",
       "| 261  | 1 |\n",
       "| 284  | 1 |\n",
       "| 297  | 1 |\n",
       "| 305  | 1 |\n",
       "| 322  | 1 |\n",
       "| 329  | 1 |\n",
       "| 348  | 1 |\n",
       "| 351  | 1 |\n",
       "| 364  | 1 |\n",
       "| 372  | 1 |\n",
       "| 375  | 1 |\n",
       "| 382  | 1 |\n",
       "| 389  | 1 |\n",
       "| 393  | 1 |\n",
       "| 422  | 1 |\n",
       "| 434  | 1 |\n",
       "| 471  | 1 |\n",
       "| 493  | 2 |\n",
       "| 496  | 1 |\n",
       "| 507  | 1 |\n",
       "| 516  | 1 |\n",
       "| 545  | 1 |\n",
       "| 547  | 1 |\n",
       "| 548  | 1 |\n",
       "| 552  | 1 |\n",
       "| 560  | 1 |\n",
       "| 626  | 1 |\n",
       "| 629  | 1 |\n",
       "| 672  | 1 |\n",
       "| 823  | 1 |\n",
       "| 953  | 1 |\n",
       "| 1082 | 1 |\n",
       "| 1137 | 1 |\n",
       "| 1139 | 1 |\n",
       "| 1201 | 1 |\n",
       "| 1317 | 1 |\n",
       "| 1860 | 1 |\n",
       "| 2696 | 1 |\n",
       "\n"
      ],
      "text/plain": [
       "   total_bedrooms Frequencia\n",
       "1  8              1         \n",
       "2  117            1         \n",
       "3  146            1         \n",
       "4  150            1         \n",
       "5  168            1         \n",
       "6  169            1         \n",
       "7  209            1         \n",
       "8  225            1         \n",
       "9  242            1         \n",
       "10 250            1         \n",
       "11 257            1         \n",
       "12 261            1         \n",
       "13 284            1         \n",
       "14 297            1         \n",
       "15 305            1         \n",
       "16 322            1         \n",
       "17 329            1         \n",
       "18 348            1         \n",
       "19 351            1         \n",
       "20 364            1         \n",
       "21 372            1         \n",
       "22 375            1         \n",
       "23 382            1         \n",
       "24 389            1         \n",
       "25 393            1         \n",
       "26 422            1         \n",
       "27 434            1         \n",
       "28 471            1         \n",
       "29 493            2         \n",
       "30 496            1         \n",
       "31 507            1         \n",
       "32 516            1         \n",
       "33 545            1         \n",
       "34 547            1         \n",
       "35 548            1         \n",
       "36 552            1         \n",
       "37 560            1         \n",
       "38 626            1         \n",
       "39 629            1         \n",
       "40 672            1         \n",
       "41 823            1         \n",
       "42 953            1         \n",
       "43 1082           1         \n",
       "44 1137           1         \n",
       "45 1139           1         \n",
       "46 1201           1         \n",
       "47 1317           1         \n",
       "48 1860           1         \n",
       "49 2696           1         "
      ]
     },
     "metadata": {
      "tags": []
     },
     "output_type": "display_data"
    }
   ],
   "source": [
    "Freq1"
   ]
  },
  {
   "cell_type": "markdown",
   "metadata": {
    "id": "s_aKeRdlvqdP"
   },
   "source": [
    "##### Tabela de frequências"
   ]
  },
  {
   "cell_type": "markdown",
   "metadata": {
    "ExecuteTime": {
     "end_time": "2020-09-21T13:43:31.875117Z",
     "start_time": "2020-09-21T13:43:31.810Z"
    },
    "id": "Igt_oPpzvqdP"
   },
   "source": []
  },
  {
   "cell_type": "code",
   "execution_count": 59,
   "metadata": {
    "ExecuteTime": {
     "end_time": "2021-03-19T13:58:51.572014Z",
     "start_time": "2021-03-19T13:58:51.538Z"
    },
    "colab": {
     "base_uri": "https://localhost:8080/",
     "height": 249
    },
    "executionInfo": {
     "elapsed": 1309,
     "status": "error",
     "timestamp": 1616521856372,
     "user": {
      "displayName": "Mauro Alixandrini Jr",
      "photoUrl": "https://lh3.googleusercontent.com/a-/AOh14Gg9C33PtOBVdDn1u8Obla34FWkQofJILPqMFSjXVH4=s64",
      "userId": "14881978544774885843"
     },
     "user_tz": 180
    },
    "id": "UKmfwIevvqdP",
    "outputId": "3a857038-0d4c-4a05-bead-283f5b105b18"
   },
   "outputs": [
    {
     "ename": "ERROR",
     "evalue": "ignored",
     "output_type": "error",
     "traceback": [
      "Error in Math.data.frame(Freq): non-numeric variable(s) in data frame: households\nTraceback:\n",
      "1. transform(Freq, cumFreq = cumsum(Freq), relative = prop.table(Freq))",
      "2. transform.data.frame(Freq, cumFreq = cumsum(Freq), relative = prop.table(Freq))",
      "3. eval(substitute(list(...)), `_data`, parent.frame())",
      "4. eval(substitute(list(...)), `_data`, parent.frame())",
      "5. Math.data.frame(Freq)",
      "6. stop(\"non-numeric variable(s) in data frame: \", paste(vnames[!mode.ok], \n .     collapse = \", \"))"
     ]
    }
   ],
   "source": [
    "xout<-transform(Freq, cumFreq = cumsum(Freq), relative = prop.table(Freq))\n",
    "xout"
   ]
  },
  {
   "cell_type": "markdown",
   "metadata": {
    "id": "gLc4vl98vqdQ"
   },
   "source": [
    "#### Representações Gráficas"
   ]
  },
  {
   "cell_type": "markdown",
   "metadata": {
    "id": "PpvbaEWOvqdR"
   },
   "source": [
    "##### Gráfico de Barras"
   ]
  },
  {
   "cell_type": "code",
   "execution_count": 60,
   "metadata": {
    "ExecuteTime": {
     "end_time": "2021-03-19T13:58:54.628784Z",
     "start_time": "2021-03-19T13:58:54.060Z"
    },
    "colab": {
     "base_uri": "https://localhost:8080/",
     "height": 100
    },
    "executionInfo": {
     "elapsed": 842,
     "status": "error",
     "timestamp": 1616521866015,
     "user": {
      "displayName": "Mauro Alixandrini Jr",
      "photoUrl": "https://lh3.googleusercontent.com/a-/AOh14Gg9C33PtOBVdDn1u8Obla34FWkQofJILPqMFSjXVH4=s64",
      "userId": "14881978544774885843"
     },
     "user_tz": 180
    },
    "id": "cgWOcKOavqdR",
    "outputId": "6291760b-2172-4490-e97c-b7e2d0ed3531"
   },
   "outputs": [
    {
     "ename": "ERROR",
     "evalue": "ignored",
     "output_type": "error",
     "traceback": [
      "Error in eval(expr, envir, enclos): object 'xout' not found\nTraceback:\n"
     ]
    }
   ],
   "source": [
    "#separando dados que serão usados na variavel selec\n",
    "selec<-xout[c(\"Var1\",\"Freq\")]\n",
    "# esse parametro serve para aumentar as margens\n",
    "par(mar=c(11,4,4,4))\n",
    "#plotando o grafico de barras\n",
    "barplot(height=selec$Freq, names=selec$Var1,font.axis=1, col=\"#69b3a2\",cex.axis=1, las=2)"
   ]
  },
  {
   "cell_type": "code",
   "execution_count": null,
   "metadata": {
    "ExecuteTime": {
     "end_time": "2021-03-19T13:58:59.829919Z",
     "start_time": "2021-03-19T13:58:54.822Z"
    },
    "id": "ntozsQw_vqdS",
    "outputId": "e8c93d71-9dea-47ad-f2d2-8efc0bdb32ba"
   },
   "outputs": [
    {
     "name": "stderr",
     "output_type": "stream",
     "text": [
      "Warning message:\n",
      "\"package 'ggplot2' was built under R version 3.6.3\""
     ]
    },
    {
     "data": {
      "image/png": "[encoded data removed]",
      "text/plain": [
       "plot without title"
      ]
     },
     "metadata": {
      "tags": []
     },
     "output_type": "display_data"
    }
   ],
   "source": [
    "# Load ggplot2\n",
    "library(ggplot2)\n",
    "\n",
    "# Create data\n",
    "data <- data.frame(\n",
    "  name=c(\"A\",\"B\",\"C\",\"D\",\"E\") ,  \n",
    "  value=c(3,12,5,18,45)\n",
    "  )\n",
    "\n",
    "# Barplot\n",
    "ggplot(data, aes(x=name, y=value)) + \n",
    "  geom_bar(stat = \"identity\")"
   ]
  },
  {
   "cell_type": "markdown",
   "metadata": {
    "id": "2HTBgRUqvqdT"
   },
   "source": [
    "##### Gráfico de Setores"
   ]
  },
  {
   "cell_type": "code",
   "execution_count": null,
   "metadata": {
    "ExecuteTime": {
     "end_time": "2021-03-19T13:59:06.036442Z",
     "start_time": "2021-03-19T13:59:05.932Z"
    },
    "id": "2WwigaYKvqdT",
    "outputId": "e7334be9-8dc6-43d0-d46a-cf8f65f67ad0"
   },
   "outputs": [
    {
     "data": {
      "image/png": "[encoded data removed]",
      "text/plain": [
       "plot without title"
      ]
     },
     "metadata": {
      "tags": []
     },
     "output_type": "display_data"
    }
   ],
   "source": [
    "pie(selec$Freq , labels = selec$Var1)"
   ]
  },
  {
   "cell_type": "code",
   "execution_count": null,
   "metadata": {
    "ExecuteTime": {
     "end_time": "2021-03-19T13:59:08.128082Z",
     "start_time": "2021-03-19T13:59:07.965Z"
    },
    "id": "vJsBtDZovqdT",
    "outputId": "f4947a17-989d-4dc1-fb49-4ba72d03fda8"
   },
   "outputs": [
    {
     "data": {
      "image/png": "[encoded data removed]",
      "text/plain": [
       "plot without title"
      ]
     },
     "metadata": {
      "tags": []
     },
     "output_type": "display_data"
    }
   ],
   "source": [
    "# Prepare a color palette. Here with R color brewer:\n",
    "library(RColorBrewer)\n",
    "myPalette <- brewer.pal(5, \"Set2\") \n",
    "\n",
    "# You can change the border of each area with the classical parameters:\n",
    "pie(selec$Freq , labels = selec$Var1, border=\"white\", col=myPalette )"
   ]
  },
  {
   "cell_type": "code",
   "execution_count": null,
   "metadata": {
    "ExecuteTime": {
     "end_time": "2021-03-19T14:01:04.758380Z",
     "start_time": "2021-03-19T14:01:04.251Z"
    },
    "id": "onmVc9UOvqdU",
    "outputId": "db9426bc-19a4-4b86-be02-c5e6dbb76691"
   },
   "outputs": [
    {
     "name": "stderr",
     "output_type": "stream",
     "text": [
      "Warning message:\n",
      "\"package 'plotrix' was built under R version 3.6.3\""
     ]
    },
    {
     "data": {
      "image/png": "[encoded data removed]",
      "text/plain": [
       "Plot with title \"3D PIE OPINIONS\""
      ]
     },
     "metadata": {
      "tags": []
     },
     "output_type": "display_data"
    },
    {
     "data": {
      "image/png": "[encoded data removed]",
      "text/plain": [
       "Plot with title \"3D PIE OPINIONS\""
      ]
     },
     "metadata": {
      "tags": []
     },
     "output_type": "display_data"
    }
   ],
   "source": [
    "##### faltou chamar essa biblioteca#####\n",
    "########################################\n",
    "library(plotrix)\n",
    "#######################################\n",
    "\n",
    "pieval<-c(2,4,6,8)\n",
    " pielabels<-\n",
    "  c(\"We hate\\n pies\",\"We oppose\\n  pies\",\"We don't\\n  care\",\"We just love pies\")\n",
    " # grab the radial positions of the labels\n",
    " lp<-pie3D(pieval,radius=0.9,labels=pielabels,explode=0.1,main=\"3D PIE OPINIONS\")\n",
    " # lengthen the last label and move it to the left\n",
    " pielabels[4]<-\"We cannot survive without our pies\"\n",
    " lp[4]<-4.8\n",
    " # specify some new colors\n",
    " pie3D(pieval,radius=0.9,labels=pielabels,explode=0.1,main=\"3D PIE OPINIONS\",\n",
    "  col=c(\"brown\",\"#ddaa00\",\"pink\",\"#dd00dd\"),labelpos=lp)"
   ]
  },
  {
   "cell_type": "markdown",
   "metadata": {
    "id": "ZKBTUTy9vqdV"
   },
   "source": [
    "##### Gráfico de Barras multiplas"
   ]
  },
  {
   "cell_type": "code",
   "execution_count": null,
   "metadata": {
    "ExecuteTime": {
     "end_time": "2021-03-19T14:02:46.095686Z",
     "start_time": "2021-03-19T14:02:45.582Z"
    },
    "id": "WlF6QtF5vqdV",
    "outputId": "47566d73-1898-4403-c5d5-cdbc67013774"
   },
   "outputs": [
    {
     "data": {
      "image/png": "[encoded data removed]",
      "text/plain": [
       "plot without title"
      ]
     },
     "metadata": {
      "tags": []
     },
     "output_type": "display_data"
    }
   ],
   "source": [
    "# create a dataset\n",
    "specie <- c(rep(\"sorgho\" , 3) , rep(\"poacee\" , 3) , rep(\"banana\" , 3) , rep(\"triticum\" , 3) )\n",
    "condition <- rep(c(\"normal\" , \"stress\" , \"Nitrogen\") , 4)\n",
    "value <- abs(rnorm(12 , 0 , 15))\n",
    "data <- data.frame(specie,condition,value)\n",
    " \n",
    "# Grouped\n",
    "ggplot(data, aes(fill=condition, y=value, x=specie)) + \n",
    "    geom_bar(position=\"dodge\", stat=\"identity\")"
   ]
  },
  {
   "cell_type": "code",
   "execution_count": null,
   "metadata": {
    "id": "my62J_hSvqdV"
   },
   "outputs": [],
   "source": []
  }
 ],
 "metadata": {
  "colab": {
   "name": "aula3.ipynb",
   "provenance": [],
   "toc_visible": true
  },
  "kernelspec": {
   "display_name": "Python 3 (ipykernel)",
   "language": "python",
   "name": "python3"
  },
  "language_info": {
   "codemirror_mode": {
    "name": "ipython",
    "version": 3
   },
   "file_extension": ".py",
   "mimetype": "text/x-python",
   "name": "python",
   "nbconvert_exporter": "python",
   "pygments_lexer": "ipython3",
   "version": "3.9.12"
  },
  "toc": {
   "base_numbering": 1,
   "nav_menu": {},
   "number_sections": true,
   "sideBar": true,
   "skip_h1_title": true,
   "title_cell": "Table of Contents",
   "title_sidebar": "Contents",
   "toc_cell": true,
   "toc_position": {
    "height": "calc(100% - 180px)",
    "left": "10px",
    "top": "150px",
    "width": "165px"
   },
   "toc_section_display": true,
   "toc_window_display": false
  }
 },
 "nbformat": 4,
 "nbformat_minor": 1
}
